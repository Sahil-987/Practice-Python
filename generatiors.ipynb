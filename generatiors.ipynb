{
 "cells": [
  {
   "cell_type": "markdown",
   "metadata": {},
   "source": [
    "## Notes\n",
    "\n",
    "Generators are a way to create Iterators (campusx - yt / Generators in Python | Advanced Python Programming / ts - 1:40)\n",
    "\n",
    "\n",
    "(my thoughts) Generators ko use karna h to for loop ka use karna padta h\n",
    "because agar ek generator ko call karoge aur print karoge to\n",
    "generator object ka address print ho jaata h"
   ]
  },
  {
   "cell_type": "code",
   "execution_count": 10,
   "metadata": {},
   "outputs": [
    {
     "name": "stdout",
     "output_type": "stream",
     "text": [
      "[2, 4, 6, 8, 10]\n"
     ]
    }
   ],
   "source": [
    "def sq_numbrs(input_list):\n",
    "    i = 0\n",
    "    while i < len(input_list):\n",
    "        num = input_list[i]\n",
    "        yield num**2\n",
    "        i += 1\n",
    "\n",
    "list1 = list(range(2,11,2))\n",
    "print(list1)\n",
    "values = sq_numbrs(list1)\n"
   ]
  },
  {
   "cell_type": "code",
   "execution_count": 12,
   "metadata": {},
   "outputs": [
    {
     "data": {
      "text/plain": [
       "16"
      ]
     },
     "execution_count": 12,
     "metadata": {},
     "output_type": "execute_result"
    }
   ],
   "source": [
    "values.__next__()"
   ]
  },
  {
   "cell_type": "code",
   "execution_count": null,
   "metadata": {},
   "outputs": [],
   "source": []
  }
 ],
 "metadata": {
  "kernelspec": {
   "display_name": "Python 3",
   "language": "python",
   "name": "python3"
  },
  "language_info": {
   "codemirror_mode": {
    "name": "ipython",
    "version": 3
   },
   "file_extension": ".py",
   "mimetype": "text/x-python",
   "name": "python",
   "nbconvert_exporter": "python",
   "pygments_lexer": "ipython3",
   "version": "3.11.2"
  },
  "orig_nbformat": 4
 },
 "nbformat": 4,
 "nbformat_minor": 2
}
