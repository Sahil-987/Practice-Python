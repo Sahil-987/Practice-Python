{
 "cells": [
  {
   "cell_type": "code",
   "execution_count": 10,
   "metadata": {},
   "outputs": [],
   "source": [
    "def div_modifier(fun):\n",
    "    def main(*args):\n",
    "        for i in args[1:]:\n",
    "            if i == 0:\n",
    "                return \"cannot divide by zero\"\n",
    "        return fun(*args)\n",
    "    return main\n",
    "\n",
    "\n",
    "\n",
    "@div_modifier\n",
    "def div1(a,b):\n",
    "    return a/b\n",
    "\n",
    "@div_modifier\n",
    "def div2(a,b,c):\n",
    "    return a/b/c"
   ]
  },
  {
   "cell_type": "code",
   "execution_count": 11,
   "metadata": {},
   "outputs": [
    {
     "name": "stdout",
     "output_type": "stream",
     "text": [
      "0.4\n",
      "cannot divide by zero\n",
      "\n",
      "*******************\n",
      "\n",
      "0.4\n",
      "cannot divide by zero\n",
      "cannot divide by zero\n"
     ]
    }
   ],
   "source": [
    "x = div1(2,5)\n",
    "y = div1(2,0)\n",
    "print(x,y, sep = \"\\n\")\n",
    "\n",
    "print(\"\\n*******************\\n\")\n",
    "\n",
    "z1 = div2(2,1,5)\n",
    "z2 = div2(2,0,1)\n",
    "z3 = div2(2,0,0)\n",
    "print(z1,z2,z3, sep = \"\\n\")\n"
   ]
  },
  {
   "cell_type": "code",
   "execution_count": null,
   "metadata": {},
   "outputs": [],
   "source": []
  }
 ],
 "metadata": {
  "kernelspec": {
   "display_name": "Python 3 (ipykernel)",
   "language": "python",
   "name": "python3"
  },
  "language_info": {
   "codemirror_mode": {
    "name": "ipython",
    "version": 3
   },
   "file_extension": ".py",
   "mimetype": "text/x-python",
   "name": "python",
   "nbconvert_exporter": "python",
   "pygments_lexer": "ipython3",
   "version": "3.11.2"
  }
 },
 "nbformat": 4,
 "nbformat_minor": 2
}
