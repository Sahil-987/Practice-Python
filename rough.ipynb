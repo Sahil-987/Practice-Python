{
 "cells": [
  {
   "cell_type": "code",
   "execution_count": 22,
   "metadata": {},
   "outputs": [
    {
     "name": "stdout",
     "output_type": "stream",
     "text": [
      "2 8\n",
      "5 5\n",
      "8 2\n"
     ]
    }
   ],
   "source": [
    "list1 = [1,2,5,6,8,0,-2,5,2]\n",
    "check = 10\n",
    "\n",
    "\n",
    "def find_elem(given, target):\n",
    "    for i in range(len(given)):\n",
    "        for j in range(i+1,len(given)):\n",
    "            if given[i] + given[j] == target:\n",
    "                print(given[i],given[j])\n",
    "                \n",
    "\n",
    "# check\n",
    "\n",
    "find_elem(list1, check)"
   ]
  },
  {
   "cell_type": "code",
   "execution_count": 30,
   "metadata": {},
   "outputs": [
    {
     "name": "stdout",
     "output_type": "stream",
     "text": [
      "final list : [-2, 0, 1, 2, 2, 5, 5, 6, 8]\n",
      "2 8\n",
      "5 5\n"
     ]
    }
   ],
   "source": [
    "list1 = [1,2,5,6,8,0,-2,5,2]\n",
    "check = 10\n",
    "\n",
    "\n",
    "\n",
    "def find_elm_2p(given, target):\n",
    "    given.sort()\n",
    "    lp = 0\n",
    "    rp = len(given)-1\n",
    "    print(f\"final list : {given}\")\n",
    "    while lp < rp:\n",
    "        if given[lp] + given[rp] == target:\n",
    "            print(given[lp], given[rp])\n",
    "            lp += 1\n",
    "            rp -= 1\n",
    "        elif given[lp] + given[rp] < target:\n",
    "            lp += 1\n",
    "        \n",
    "        else:\n",
    "            rp -= 1\n",
    "\n",
    "\n",
    "# check\n",
    "\n",
    "find_elm_2p(list1,check)"
   ]
  },
  {
   "cell_type": "code",
   "execution_count": null,
   "metadata": {},
   "outputs": [],
   "source": [
    "list1 = [1,2,5,6,8,0,-2,5,2]\n",
    "check = 10\n",
    "\n",
    "\n",
    "# note : in leetcode only one pair of solution exists\n",
    "# return index of the elements not values\n",
    "\n",
    "# Hash table | key = value of the element, value = index of the element\n",
    "\n"
   ]
  }
 ],
 "metadata": {
  "kernelspec": {
   "display_name": "Python 3 (ipykernel)",
   "language": "python",
   "name": "python3"
  },
  "language_info": {
   "codemirror_mode": {
    "name": "ipython",
    "version": 3
   },
   "file_extension": ".py",
   "mimetype": "text/x-python",
   "name": "python",
   "nbconvert_exporter": "python",
   "pygments_lexer": "ipython3",
   "version": "3.11.2"
  }
 },
 "nbformat": 4,
 "nbformat_minor": 2
}
