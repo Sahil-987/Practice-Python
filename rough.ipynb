{
 "cells": [
  {
   "cell_type": "code",
   "execution_count": 14,
   "metadata": {},
   "outputs": [
    {
     "name": "stdout",
     "output_type": "stream",
     "text": [
      "0\n",
      "0\n"
     ]
    }
   ],
   "source": [
    "class Employee:\n",
    "    sr_no = 0\n",
    "\n",
    "    def __init__(self, name, age, department):\n",
    "        self.name = name\n",
    "        self.age = age \n",
    "        self.department = department\n",
    "\n",
    "    \n",
    "    @classmethod\n",
    "    def update_srno(cls):\n",
    "        cls.sr_no += 1\n",
    "\n",
    "\n",
    "\n",
    "if __name__ == \"__main__\":\n",
    "    e1 = Employee(\"Sahil\",28,\"AI\")\n",
    "    print(e1.sr_no)\n",
    "\n",
    "\n",
    "    e2 = Employee(\"Waris\",28,\"Dev\")\n",
    "    print(e2.sr_no)"
   ]
  },
  {
   "cell_type": "code",
   "execution_count": 4,
   "metadata": {},
   "outputs": [
    {
     "data": {
      "text/plain": [
       "3"
      ]
     },
     "execution_count": 4,
     "metadata": {},
     "output_type": "execute_result"
    }
   ],
   "source": [
    "x = Employee()\n",
    "x.acc(1,2)"
   ]
  },
  {
   "cell_type": "code",
   "execution_count": 5,
   "metadata": {},
   "outputs": [
    {
     "data": {
      "text/plain": [
       "1"
      ]
     },
     "execution_count": 5,
     "metadata": {},
     "output_type": "execute_result"
    }
   ],
   "source": [
    "Employee.sub(5,4)"
   ]
  },
  {
   "cell_type": "code",
   "execution_count": null,
   "metadata": {},
   "outputs": [],
   "source": []
  }
 ],
 "metadata": {
  "kernelspec": {
   "display_name": "Python 3 (ipykernel)",
   "language": "python",
   "name": "python3"
  },
  "language_info": {
   "codemirror_mode": {
    "name": "ipython",
    "version": 3
   },
   "file_extension": ".py",
   "mimetype": "text/x-python",
   "name": "python",
   "nbconvert_exporter": "python",
   "pygments_lexer": "ipython3",
   "version": "3.11.2"
  }
 },
 "nbformat": 4,
 "nbformat_minor": 2
}
