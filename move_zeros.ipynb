{
 "cells": [
  {
   "cell_type": "code",
   "execution_count": 2,
   "metadata": {},
   "outputs": [
    {
     "name": "stdout",
     "output_type": "stream",
     "text": [
      "[0, 0, 0]\n",
      "[1, 22, 4, 5, 5]\n"
     ]
    },
    {
     "data": {
      "text/plain": [
       "[1, 22, 4, 5, 5, 0, 0, 0]"
      ]
     },
     "execution_count": 2,
     "metadata": {},
     "output_type": "execute_result"
    }
   ],
   "source": [
    "# My method\n",
    "\n",
    "list_ = [1,22,0,4,0,5,0,5] # target = [1, 22, 4, 5, 5, 0, 0, 0]\n",
    "\n",
    "list_0 = []\n",
    "list_non_zero = []\n",
    "\n",
    "for i in list_:\n",
    "    if i:\n",
    "        list_non_zero.append(i)\n",
    "    else:\n",
    "        list_0.append(i)\n",
    "\n",
    "print(list_0)\n",
    "print(list_non_zero)\n",
    "list_non_zero + list_0"
   ]
  },
  {
   "cell_type": "code",
   "execution_count": 8,
   "metadata": {},
   "outputs": [
    {
     "name": "stdout",
     "output_type": "stream",
     "text": [
      "[1, 22, 4, 5, 5, 0, 0, 0]\n"
     ]
    }
   ],
   "source": [
    "# Neetcode\n",
    "\n",
    "# trick : focus on non-zero values, move them to the right\n",
    "\n",
    "\n",
    "list_ = [1,22,0,4,0,5,0,5] # target = [1, 22, 4, 5, 5, 0, 0, 0]\n",
    "lp = 0\n",
    "# rp in for loop\n",
    "\n",
    "for rp in range(len(list_)):\n",
    "    if list_[rp]: #non-zero\n",
    "        list_[lp], list_[rp] = list_[rp], list_[lp]\n",
    "        lp += 1\n",
    "\n",
    "print(list_)"
   ]
  },
  {
   "cell_type": "code",
   "execution_count": null,
   "metadata": {},
   "outputs": [],
   "source": []
  }
 ],
 "metadata": {
  "kernelspec": {
   "display_name": "Python 3 (ipykernel)",
   "language": "python",
   "name": "python3"
  },
  "language_info": {
   "codemirror_mode": {
    "name": "ipython",
    "version": 3
   },
   "file_extension": ".py",
   "mimetype": "text/x-python",
   "name": "python",
   "nbconvert_exporter": "python",
   "pygments_lexer": "ipython3",
   "version": "3.11.2"
  }
 },
 "nbformat": 4,
 "nbformat_minor": 2
}
