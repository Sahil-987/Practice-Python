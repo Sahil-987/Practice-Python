{
 "cells": [
  {
   "cell_type": "code",
   "execution_count": 2,
   "metadata": {},
   "outputs": [
    {
     "ename": "NameError",
     "evalue": "name 'self' is not defined",
     "output_type": "error",
     "traceback": [
      "\u001b[1;31m---------------------------------------------------------------------------\u001b[0m",
      "\u001b[1;31mNameError\u001b[0m                                 Traceback (most recent call last)",
      "Cell \u001b[1;32mIn[2], line 43\u001b[0m\n\u001b[0;32m     41\u001b[0m \u001b[38;5;28;01mif\u001b[39;00m \u001b[38;5;18m__name__\u001b[39m \u001b[38;5;241m==\u001b[39m \u001b[38;5;124m\"\u001b[39m\u001b[38;5;124m__main__\u001b[39m\u001b[38;5;124m\"\u001b[39m:\n\u001b[0;32m     42\u001b[0m   test \u001b[38;5;241m=\u001b[39m Atm(customer_id \u001b[38;5;241m=\u001b[39m \u001b[38;5;124m\"\u001b[39m\u001b[38;5;124mcust_id_2\u001b[39m\u001b[38;5;124m\"\u001b[39m)\n\u001b[1;32m---> 43\u001b[0m   \u001b[43mtest\u001b[49m\u001b[38;5;241;43m.\u001b[39;49m\u001b[43mcheck_balance\u001b[49m\u001b[43m(\u001b[49m\u001b[43m)\u001b[49m\n",
      "Cell \u001b[1;32mIn[2], line 33\u001b[0m, in \u001b[0;36mAtm.check_balance\u001b[1;34m(self)\u001b[0m\n\u001b[0;32m     32\u001b[0m \u001b[38;5;28;01mdef\u001b[39;00m \u001b[38;5;21mcheck_balance\u001b[39m(\u001b[38;5;28mself\u001b[39m):\n\u001b[1;32m---> 33\u001b[0m   result \u001b[38;5;241m=\u001b[39m \u001b[43mAtm\u001b[49m\u001b[38;5;241;43m.\u001b[39;49m\u001b[43menter_pin\u001b[49m\u001b[43m(\u001b[49m\u001b[43m)\u001b[49m\n\u001b[0;32m     34\u001b[0m   \u001b[38;5;28;01mif\u001b[39;00m result:\n\u001b[0;32m     35\u001b[0m     \u001b[38;5;28mprint\u001b[39m(\u001b[38;5;124mf\u001b[39m\u001b[38;5;124m\"\u001b[39m\u001b[38;5;124myour a/c balance is Rs. \u001b[39m\u001b[38;5;132;01m{\u001b[39;00mAtm\u001b[38;5;241m.\u001b[39mcustomer_data[\u001b[38;5;28mself\u001b[39m\u001b[38;5;241m.\u001b[39mcustomer_id][\u001b[38;5;124m'\u001b[39m\u001b[38;5;124mbalance\u001b[39m\u001b[38;5;124m'\u001b[39m]\u001b[38;5;132;01m}\u001b[39;00m\u001b[38;5;124m\"\u001b[39m)\n",
      "Cell \u001b[1;32mIn[2], line 26\u001b[0m, in \u001b[0;36mAtm.enter_pin\u001b[1;34m()\u001b[0m\n\u001b[0;32m     23\u001b[0m \u001b[38;5;129m@staticmethod\u001b[39m\n\u001b[0;32m     24\u001b[0m \u001b[38;5;28;01mdef\u001b[39;00m \u001b[38;5;21menter_pin\u001b[39m():\n\u001b[0;32m     25\u001b[0m   pin_code \u001b[38;5;241m=\u001b[39m \u001b[38;5;28mint\u001b[39m(\u001b[38;5;28minput\u001b[39m(\u001b[38;5;124m\"\u001b[39m\u001b[38;5;124menter your pin\u001b[39m\u001b[38;5;124m\"\u001b[39m))\n\u001b[1;32m---> 26\u001b[0m   \u001b[38;5;28;01mif\u001b[39;00m pin_code \u001b[38;5;241m==\u001b[39m Atm\u001b[38;5;241m.\u001b[39mcustomer_data[\u001b[38;5;28;43mself\u001b[39;49m\u001b[38;5;241m.\u001b[39mcustomer_id][\u001b[38;5;124m\"\u001b[39m\u001b[38;5;124matm_pin\u001b[39m\u001b[38;5;124m\"\u001b[39m]:\n\u001b[0;32m     27\u001b[0m     \u001b[38;5;28mprint\u001b[39m(\u001b[38;5;124m\"\u001b[39m\u001b[38;5;124mpin correct..........!\u001b[39m\u001b[38;5;124m\"\u001b[39m)\n\u001b[0;32m     28\u001b[0m     \u001b[38;5;28;01mreturn\u001b[39;00m \u001b[38;5;28;01mTrue\u001b[39;00m\n",
      "\u001b[1;31mNameError\u001b[0m: name 'self' is not defined"
     ]
    }
   ],
   "source": [
    "## in static method, we cannot access instance variable\n",
    "\n",
    "## in this case we cannot access self.customer_id\n",
    "## In a static method, you cannot access instance variables using self because static methods are not bound to any instance. \n",
    "## Hence, self.customer_id within the enter_pin() method will raise an error.\n",
    "\n",
    "\n",
    "class Atm:\n",
    "  IFSC_CODE = \"IBKL1234\"\n",
    "  Branch = \"Saket, Delhi\"\n",
    "\n",
    "  customer_data = {\n",
    "      \"cust_id_1\" : {\"atm_pin\" : 9870, \"balance\" : 5000},\n",
    "      \"cust_id_2\" : {\"atm_pin\" : 8870, \"balance\" : 6000},\n",
    "      \"cust_id_3\" : {\"atm_pin\" : 7870, \"balance\" : 7000},\n",
    "      \"cust_id_4\" : {\"atm_pin\" : 6870, \"balance\" : 8000}\n",
    "  }\n",
    "\n",
    "\n",
    "  def __init__(self, customer_id):\n",
    "    self.customer_id = customer_id\n",
    "\n",
    "\n",
    "  @staticmethod\n",
    "  def enter_pin():\n",
    "    pin_code = int(input(\"enter your pin\"))\n",
    "    if pin_code == Atm.customer_data[self.customer_id][\"atm_pin\"]:\n",
    "      print(\"pin correct..........!\")\n",
    "      return True\n",
    "    print(\"incorrect pin.......!\")\n",
    "    return False\n",
    "\n",
    "  def check_balance(self):\n",
    "    result = Atm.enter_pin()\n",
    "    if result:\n",
    "      print(f\"your a/c balance is Rs. {Atm.customer_data[self.customer_id]['balance']}\")\n",
    "      return True\n",
    "    print(\"Unable to check balance.......!\")\n",
    "    return False\n",
    "\n",
    "\n",
    "if __name__ == \"__main__\":\n",
    "  test = Atm(customer_id = \"cust_id_2\")\n",
    "  test.check_balance()"
   ]
  }
 ],
 "metadata": {
  "kernelspec": {
   "display_name": "Python 3",
   "language": "python",
   "name": "python3"
  },
  "language_info": {
   "codemirror_mode": {
    "name": "ipython",
    "version": 3
   },
   "file_extension": ".py",
   "mimetype": "text/x-python",
   "name": "python",
   "nbconvert_exporter": "python",
   "pygments_lexer": "ipython3",
   "version": "3.11.2"
  }
 },
 "nbformat": 4,
 "nbformat_minor": 2
}
