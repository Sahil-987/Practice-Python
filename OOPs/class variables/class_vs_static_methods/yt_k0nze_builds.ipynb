{
 "cells": [
  {
   "cell_type": "code",
   "execution_count": 1,
   "metadata": {},
   "outputs": [
    {
     "data": {
      "text/plain": [
       "'\\n\\nA static method knows nothing about the class it is part of\\nand works only with its parameters\\nref : www.youtube.com/watch?v=7428SmlYD4M\\n\\n\\nA class method can access & manipulate attributes of a class\\nand\\nits first parameter is always the class itself\\n\\n'"
      ]
     },
     "execution_count": 1,
     "metadata": {},
     "output_type": "execute_result"
    }
   ],
   "source": [
    "\"\"\"\n",
    "ref : www.youtube.com/watch?v=7428SmlYD4M\n",
    "https://k0nze.dev/posts/python-staticmethod-vs-classmethod/\n",
    "\n",
    "\n",
    "A static method knows nothing about the class it is part of\n",
    "and works only with its parameters\n",
    "\n",
    "\n",
    "\n",
    "A class method can access & manipulate attributes of a class\n",
    "and\n",
    "its first parameter is always the class itself\n",
    "\n",
    "\"\"\""
   ]
  },
  {
   "cell_type": "code",
   "execution_count": 3,
   "metadata": {},
   "outputs": [
    {
     "name": "stdout",
     "output_type": "stream",
     "text": [
      "65\n",
      "-19\n",
      "2\n"
     ]
    }
   ],
   "source": [
    "class Accumulator:\n",
    "    def __init__(self):\n",
    "        self.acc = 0\n",
    "\n",
    "    def add(self, x):\n",
    "        self.acc += x\n",
    "\n",
    "    @staticmethod\n",
    "    def sub(x,y):\n",
    "        return x-y\n",
    "\n",
    "if __name__ == \"__main__\":\n",
    "    a = Accumulator()\n",
    "    a.add(23)\n",
    "    a.add(42)\n",
    "\n",
    "    print(a.acc)\n",
    "\n",
    "    print(Accumulator.sub(23, 42))\n",
    "\n",
    "    \n",
    "\n",
    "    \"\"\"\n",
    "    Note : sub method (which is staticmethod) \n",
    "    usko access karne k lie, class k object ka use nahi kia h\n",
    "    \"\"\"\n",
    "\n",
    "    ## Extra\n",
    "    ## lekin chahe to aisa kar sakte h\n",
    "    ## kisi object k through staticmethod ko access karna\n",
    "    print(a.sub(5,3))"
   ]
  },
  {
   "cell_type": "code",
   "execution_count": null,
   "metadata": {},
   "outputs": [],
   "source": []
  }
 ],
 "metadata": {
  "kernelspec": {
   "display_name": "Python 3",
   "language": "python",
   "name": "python3"
  },
  "language_info": {
   "codemirror_mode": {
    "name": "ipython",
    "version": 3
   },
   "file_extension": ".py",
   "mimetype": "text/x-python",
   "name": "python",
   "nbconvert_exporter": "python",
   "pygments_lexer": "ipython3",
   "version": "3.11.2"
  },
  "orig_nbformat": 4
 },
 "nbformat": 4,
 "nbformat_minor": 2
}
