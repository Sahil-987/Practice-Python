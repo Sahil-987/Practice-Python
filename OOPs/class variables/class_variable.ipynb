{
 "cells": [
  {
   "cell_type": "code",
   "execution_count": 12,
   "metadata": {},
   "outputs": [
    {
     "name": "stdout",
     "output_type": "stream",
     "text": [
      "Sahil\n",
      "2\n",
      "Apple\n",
      "\n",
      "\n",
      "\n",
      "Sahil\n",
      "2\n",
      "Apple India\n",
      "\n",
      "\n",
      "\n",
      "Apple\n",
      "Michael\n",
      "5\n",
      "Apple\n",
      "\n",
      "\n",
      "\n",
      "Michael\n",
      "5\n",
      "Apple USA\n",
      "\n",
      "\n",
      "\n"
     ]
    }
   ],
   "source": [
    "class Company:\n",
    "    company_name = \"Apple\"\n",
    "\n",
    "    def __init__(self, name, raise_):\n",
    "        self.name = name\n",
    "        self.raise_ = raise_\n",
    "\n",
    "\n",
    "    def employee_info(self):\n",
    "        print(f\"{self.name}\")\n",
    "        print(f\"{self.raise_}\")\n",
    "        print(f\"{self.company_name}\")\n",
    "        print(\"\\n\\n\")\n",
    "\n",
    "\n",
    "    @staticmethod\n",
    "    def get_company_name():\n",
    "        print(f\"{Company.company_name}\")\n",
    "\n",
    "\n",
    "if __name__ == \"__main__\":\n",
    "    # emp1\n",
    "    emp1 = Company(\"Sahil\", 2)\n",
    "    emp1.employee_info()\n",
    "    emp1.company_name = emp1.company_name + \" India\"\n",
    "    emp1.employee_info()\n",
    "    emp1.get_company_name() # why this is not working ???\n",
    "\n",
    "\n",
    "    # emp2\n",
    "    emp2 = Company(\"Michael\", 5)\n",
    "    emp2.employee_info()\n",
    "    emp2.company_name = emp2.company_name + \" USA\"\n",
    "    emp2.employee_info()"
   ]
  },
  {
   "cell_type": "code",
   "execution_count": null,
   "metadata": {},
   "outputs": [],
   "source": []
  }
 ],
 "metadata": {
  "kernelspec": {
   "display_name": "Python 3",
   "language": "python",
   "name": "python3"
  },
  "language_info": {
   "codemirror_mode": {
    "name": "ipython",
    "version": 3
   },
   "file_extension": ".py",
   "mimetype": "text/x-python",
   "name": "python",
   "nbconvert_exporter": "python",
   "pygments_lexer": "ipython3",
   "version": "3.11.2"
  },
  "orig_nbformat": 4
 },
 "nbformat": 4,
 "nbformat_minor": 2
}
