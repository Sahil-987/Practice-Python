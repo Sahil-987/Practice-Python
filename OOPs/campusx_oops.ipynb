{
 "cells": [
  {
   "cell_type": "code",
   "execution_count": 30,
   "metadata": {},
   "outputs": [],
   "source": [
    "class Atm:\n",
    "\n",
    "    counter = 0 # class variable aka static variable\n",
    "\n",
    "    def __init__(self):\n",
    "        self.__pin = None\n",
    "        self.__balance = 0\n",
    "        self.sno = Atm.counter  # serial numbers\n",
    "        Atm.counter += 1\n",
    "         \n",
    "        self.menu()\n",
    "\n",
    "\n",
    "    def menu(self):\n",
    "        user_input = input(\"\"\"\n",
    "                            Hello, how would you like to proceed ?\n",
    "                           1. Enter 1 to create pin\n",
    "                           2. Enter 2 to deposit\n",
    "                           3. Enter 3 to withdraw\n",
    "                           4. Enter 4 to check balance\n",
    "                           5. Enter 5 to Exit\n",
    "                            \"\"\")\n",
    "        \n",
    "        \n",
    "        if user_input == \"1\":\n",
    "            self.create_pin()\n",
    "\n",
    "        elif user_input == \"2\":\n",
    "            self.deposit()\n",
    "        elif user_input == \"3\":\n",
    "            self.withdraw()\n",
    "        elif user_input == \"4\":\n",
    "            self.check_balance()\n",
    "        else:\n",
    "            print(\"bye\")\n",
    "\n",
    "\n",
    "\n",
    "    # getter\n",
    "    def get_pin(self):\n",
    "        return self.__pin\n",
    "\n",
    "\n",
    "\n",
    "    # setter\n",
    "    def set_pin(self, new_pin):\n",
    "        self.__pin = new_pin\n",
    "        print(\"pin changed successfully\")\n",
    "\n",
    "\n",
    "    def create_pin(self):\n",
    "        self.__pin = int(input(\"enter your pin\"))\n",
    "        print(\"pin entered successfully\")\n",
    "\n",
    "\n",
    "    def deposit(self):\n",
    "        temp = int(input(\"Enter your pin!\"))\n",
    "\n",
    "        if temp == self.__pin:\n",
    "            amount = int(input(\"Enter amount\"))\n",
    "            self.__balance = self.__balance + amount\n",
    "            print(\"Deposit Successful\")\n",
    "\n",
    "        else:\n",
    "            print(\"pin invalid\")\n",
    "\n",
    "\n",
    "\n",
    "    def withdraw(self):\n",
    "        temp = int(input(\"Enter your pin!\"))\n",
    "\n",
    "        if temp == self.__pin:\n",
    "            amount = int(input(\"Enter amount\"))\n",
    "            if amount < self.__balance : \n",
    "                self.__balance = self.__balance - amount\n",
    "                print(\"withdraw Successful\")\n",
    "                print(f\"current balance = {self.__balance}\")\n",
    "            else:\n",
    "                print(\"Insufficient Funds !!\")\n",
    "\n",
    "        else:\n",
    "            print(\"pin invalid\")\n",
    "\n",
    "\n",
    "    def check_balance(self):\n",
    "        temp = int(input(\"Enter your pin!\"))\n",
    "\n",
    "        if temp == self.__pin:\n",
    "            print(f\"balance = {self.__balance}\")\n",
    "\n",
    "        else:\n",
    "            print(\"pin invalid\")"
   ]
  },
  {
   "cell_type": "code",
   "execution_count": 31,
   "metadata": {},
   "outputs": [
    {
     "name": "stdout",
     "output_type": "stream",
     "text": [
      "pin entered successfully\n"
     ]
    }
   ],
   "source": [
    "sbi = Atm()"
   ]
  },
  {
   "cell_type": "code",
   "execution_count": 12,
   "metadata": {},
   "outputs": [
    {
     "name": "stdout",
     "output_type": "stream",
     "text": [
      "balance = 0\n"
     ]
    }
   ],
   "source": [
    "sbi.check_balance()"
   ]
  },
  {
   "cell_type": "code",
   "execution_count": 22,
   "metadata": {},
   "outputs": [
    {
     "name": "stdout",
     "output_type": "stream",
     "text": [
      "Deposit Successful\n"
     ]
    }
   ],
   "source": [
    "sbi.deposit()"
   ]
  },
  {
   "cell_type": "code",
   "execution_count": 27,
   "metadata": {},
   "outputs": [
    {
     "name": "stdout",
     "output_type": "stream",
     "text": [
      "withdraw Successful\n",
      "current balance = 3500\n"
     ]
    }
   ],
   "source": [
    "sbi.withdraw()"
   ]
  },
  {
   "cell_type": "code",
   "execution_count": 25,
   "metadata": {},
   "outputs": [
    {
     "data": {
      "text/plain": [
       "9999"
      ]
     },
     "execution_count": 25,
     "metadata": {},
     "output_type": "execute_result"
    }
   ],
   "source": [
    "# getter\n",
    "\n",
    "sbi.get_pin()"
   ]
  },
  {
   "cell_type": "code",
   "execution_count": 24,
   "metadata": {},
   "outputs": [
    {
     "name": "stdout",
     "output_type": "stream",
     "text": [
      "pin changed successfully\n"
     ]
    }
   ],
   "source": [
    "# setter\n",
    "\n",
    "sbi.set_pin(9999)"
   ]
  },
  {
   "cell_type": "code",
   "execution_count": 33,
   "metadata": {},
   "outputs": [
    {
     "data": {
      "text/plain": [
       "1"
      ]
     },
     "execution_count": 33,
     "metadata": {},
     "output_type": "execute_result"
    }
   ],
   "source": [
    "# static variable\n",
    "\n",
    "\n",
    "Atm.counter"
   ]
  },
  {
   "cell_type": "code",
   "execution_count": 34,
   "metadata": {},
   "outputs": [
    {
     "name": "stdout",
     "output_type": "stream",
     "text": [
      "pin entered successfully\n"
     ]
    }
   ],
   "source": [
    "hdfc = Atm()"
   ]
  },
  {
   "cell_type": "code",
   "execution_count": 37,
   "metadata": {},
   "outputs": [
    {
     "data": {
      "text/plain": [
       "0"
      ]
     },
     "execution_count": 37,
     "metadata": {},
     "output_type": "execute_result"
    }
   ],
   "source": [
    "Atm.counter\n",
    "sbi.sno"
   ]
  },
  {
   "cell_type": "markdown",
   "metadata": {},
   "source": [
    "## Fraction Class"
   ]
  },
  {
   "cell_type": "code",
   "execution_count": 47,
   "metadata": {},
   "outputs": [],
   "source": [
    "class Fraction:\n",
    "\n",
    "    def __init__(self, num, dum):\n",
    "        self.num = num\n",
    "        self.dum = dum\n",
    "\n",
    "    def display(self):\n",
    "        print(f\"fraction is {self.num}/{self.dum}\")\n",
    "\n",
    "\n",
    "\n",
    "    def __str__(self):\n",
    "        return f\"{self.num}/{self.dum}\"\n",
    "\n",
    "    def __add__(self, other):\n",
    "        return (self.num * other.dum + other.num * self.dum) / (self.dum * other.dum)"
   ]
  },
  {
   "cell_type": "code",
   "execution_count": 48,
   "metadata": {},
   "outputs": [
    {
     "name": "stdout",
     "output_type": "stream",
     "text": [
      "1/2\n",
      "5/2\n"
     ]
    }
   ],
   "source": [
    "x1 = Fraction(1,2)\n",
    "x2 = Fraction(5,2)\n",
    "print(x1)\n",
    "print(x2)"
   ]
  },
  {
   "cell_type": "code",
   "execution_count": 50,
   "metadata": {},
   "outputs": [
    {
     "name": "stdout",
     "output_type": "stream",
     "text": [
      "fraction is 1/2\n",
      "None\n"
     ]
    }
   ],
   "source": [
    "x1.display()"
   ]
  },
  {
   "cell_type": "code",
   "execution_count": 40,
   "metadata": {},
   "outputs": [
    {
     "data": {
      "text/plain": [
       "3.0"
      ]
     },
     "execution_count": 40,
     "metadata": {},
     "output_type": "execute_result"
    }
   ],
   "source": [
    "x1 + x2"
   ]
  },
  {
   "cell_type": "code",
   "execution_count": null,
   "metadata": {},
   "outputs": [],
   "source": []
  }
 ],
 "metadata": {
  "kernelspec": {
   "display_name": "Python 3",
   "language": "python",
   "name": "python3"
  },
  "language_info": {
   "codemirror_mode": {
    "name": "ipython",
    "version": 3
   },
   "file_extension": ".py",
   "mimetype": "text/x-python",
   "name": "python",
   "nbconvert_exporter": "python",
   "pygments_lexer": "ipython3",
   "version": "3.11.2"
  },
  "orig_nbformat": 4
 },
 "nbformat": 4,
 "nbformat_minor": 2
}
