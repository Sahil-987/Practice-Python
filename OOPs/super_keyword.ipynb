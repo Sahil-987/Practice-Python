{
 "cells": [
  {
   "attachments": {},
   "cell_type": "markdown",
   "metadata": {},
   "source": [
    "### Using Super Keyword\n",
    "### you can access constructor and methods of the parent class\n",
    "### not attributes"
   ]
  },
  {
   "cell_type": "code",
   "execution_count": 17,
   "metadata": {},
   "outputs": [
    {
     "name": "stdout",
     "output_type": "stream",
     "text": [
      "Inside Smartphone Constructor\n",
      "Apple class\n",
      "worth it\n"
     ]
    }
   ],
   "source": [
    "class Smartphone:\n",
    "    def __init__(self, brand):\n",
    "        print('Inside Smartphone Constructor')\n",
    "        self.brand = brand\n",
    "    \n",
    "    def status(self):\n",
    "        if self.brand == 'Apple':\n",
    "            print(\"worth it\")\n",
    "        else:\n",
    "            print(\"not worth it\")\n",
    "\n",
    "\n",
    "class Apple(Smartphone):\n",
    "    def buy(self):\n",
    "        print('Apple class')\n",
    "        super().status()\n",
    "\n",
    "if __name__ == \"__main__\":\n",
    "    x= Apple(\"Apple\")\n",
    "    x.buy()"
   ]
  },
  {
   "cell_type": "code",
   "execution_count": 32,
   "metadata": {},
   "outputs": [
    {
     "name": "stdout",
     "output_type": "stream",
     "text": [
      "Inside Smartphone Class Constructor\n",
      "Inside Phone Class Constructor\n",
      "24 mp\n"
     ]
    }
   ],
   "source": [
    "## Using super keyword to access parent class constructor\n",
    "\n",
    "class Phone:\n",
    "    def __init__(self, price,brand, camera):\n",
    "        print(\"Inside Phone Class Constructor\")\n",
    "        self.price = price\n",
    "        self.__brand = brand\n",
    "        self.camera = camera\n",
    "\n",
    "\n",
    "class Smartphone(Phone):\n",
    "    def __init__(self,price,brand, camera,os, ram):\n",
    "        print(\"Inside Smartphone Class Constructor\")\n",
    "        super().__init__(price,brand, camera)\n",
    "\n",
    "\n",
    "if __name__ == \"__main__\":\n",
    "    x= Smartphone(1000, 'Samsung', '24 mp', 'android 11', '4 gb')\n",
    "    print(x.camera)\n"
   ]
  },
  {
   "cell_type": "code",
   "execution_count": 36,
   "metadata": {},
   "outputs": [
    {
     "name": "stdout",
     "output_type": "stream",
     "text": [
      "inside child class constructor\n",
      "inside parent class constructor\n",
      "100\n",
      "200\n"
     ]
    }
   ],
   "source": [
    "## more examples\n",
    "\n",
    "class Parent:\n",
    "    def __init__(self, val):\n",
    "        print(\"inside parent class constructor\")\n",
    "        self.val = val\n",
    "\n",
    "    def check_var(self):\n",
    "        return self.val\n",
    "\n",
    "\n",
    "class Child(Parent):\n",
    "    def __init__(self, num, val):\n",
    "        print(\"inside child class constructor\")\n",
    "        super().__init__(val)\n",
    "        self.num = num\n",
    "\n",
    "    def check_num(self):\n",
    "        return self.num\n",
    "\n",
    "\n",
    "if __name__ == '__main__':\n",
    "    x = Child(100, 200)\n",
    "    print(x.check_num())\n",
    "    print(x.check_var())\n"
   ]
  },
  {
   "cell_type": "code",
   "execution_count": null,
   "metadata": {},
   "outputs": [],
   "source": []
  }
 ],
 "metadata": {
  "kernelspec": {
   "display_name": "Python 3",
   "language": "python",
   "name": "python3"
  },
  "language_info": {
   "codemirror_mode": {
    "name": "ipython",
    "version": 3
   },
   "file_extension": ".py",
   "mimetype": "text/x-python",
   "name": "python",
   "nbconvert_exporter": "python",
   "pygments_lexer": "ipython3",
   "version": "3.11.2"
  },
  "orig_nbformat": 4
 },
 "nbformat": 4,
 "nbformat_minor": 2
}
