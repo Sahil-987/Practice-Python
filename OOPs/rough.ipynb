{
 "cells": [
  {
   "cell_type": "code",
   "execution_count": 20,
   "metadata": {},
   "outputs": [],
   "source": [
    "class Atm:\n",
    "    \n",
    "    #class variable\n",
    "    counter = 0\n",
    "\n",
    "    def __init__(self):\n",
    "        self.pin = False\n",
    "        self.balance = 0\n",
    "        Atm.counter += 1\n",
    "\n",
    "\n",
    "    def get_counter(self):\n",
    "        print(f\"counter = {Atm.counter}\")\n",
    "\n",
    "\n",
    "    def set_counter(self, new_counter):\n",
    "        Atm.counter = new_counter\n",
    "\n",
    "    "
   ]
  },
  {
   "cell_type": "code",
   "execution_count": 25,
   "metadata": {},
   "outputs": [
    {
     "name": "stdout",
     "output_type": "stream",
     "text": [
      "counter = 11\n"
     ]
    }
   ],
   "source": [
    "# hdfc = Atm()\n",
    "\n",
    "hdfc.get_counter()\n",
    "# hdfc.set_counter(10)"
   ]
  },
  {
   "cell_type": "code",
   "execution_count": 23,
   "metadata": {},
   "outputs": [
    {
     "data": {
      "text/plain": [
       "10"
      ]
     },
     "execution_count": 23,
     "metadata": {},
     "output_type": "execute_result"
    }
   ],
   "source": [
    "hdfc.counter"
   ]
  },
  {
   "cell_type": "code",
   "execution_count": 24,
   "metadata": {},
   "outputs": [
    {
     "name": "stdout",
     "output_type": "stream",
     "text": [
      "counter = 11\n"
     ]
    }
   ],
   "source": [
    "sbi = Atm()\n",
    "sbi.get_counter()"
   ]
  },
  {
   "cell_type": "code",
   "execution_count": null,
   "metadata": {},
   "outputs": [],
   "source": []
  }
 ],
 "metadata": {
  "kernelspec": {
   "display_name": "Python 3",
   "language": "python",
   "name": "python3"
  },
  "language_info": {
   "codemirror_mode": {
    "name": "ipython",
    "version": 3
   },
   "file_extension": ".py",
   "mimetype": "text/x-python",
   "name": "python",
   "nbconvert_exporter": "python",
   "pygments_lexer": "ipython3",
   "version": "3.11.2"
  },
  "orig_nbformat": 4
 },
 "nbformat": 4,
 "nbformat_minor": 2
}
