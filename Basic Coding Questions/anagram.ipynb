{
 "cells": [
  {
   "cell_type": "markdown",
   "id": "8380a01f",
   "metadata": {},
   "source": [
    "## Neetcode | Method - 1 Dictionary wala"
   ]
  },
  {
   "cell_type": "code",
   "execution_count": 1,
   "id": "e365f9fb",
   "metadata": {},
   "outputs": [],
   "source": [
    "str1 = 'anagram'\n",
    "str2 = 'nagaram'"
   ]
  },
  {
   "cell_type": "code",
   "execution_count": 2,
   "id": "2f453fd2",
   "metadata": {},
   "outputs": [],
   "source": [
    "# create count_dict\n",
    "\n",
    "\n"
   ]
  },
  {
   "cell_type": "code",
   "execution_count": 4,
   "id": "d78a4af9",
   "metadata": {},
   "outputs": [],
   "source": [
    "# check\n",
    "\n",
    "def check_ana(str1, str2):\n",
    "    # check dict-count\n",
    "    if len(str1) != len(str2):\n",
    "        return \"Not Anagram\"\n",
    "    \n",
    "    else: \n",
    "        count_dict1 = {}\n",
    "        count_dict2 = {}\n",
    "\n",
    "        for i,j in zip(str1, str2):\n",
    "            count_dict1[i] = count_dict1.get(i,0) + 1    \n",
    "            count_dict2[j] = count_dict2.get(j,0) + 1\n",
    "            \n",
    "            \n",
    "        for i in count_dict1:\n",
    "            if count_dict1[i] != count_dict2.get(i,0):\n",
    "                return \"not Anagram\"\n",
    "        \n",
    "        \n",
    "        return \"It's Anagram\"\n",
    "        \n",
    "        \n",
    "\n",
    "    "
   ]
  },
  {
   "cell_type": "code",
   "execution_count": 5,
   "id": "2e56b993",
   "metadata": {},
   "outputs": [
    {
     "data": {
      "text/plain": [
       "'Not Anagram'"
      ]
     },
     "execution_count": 5,
     "metadata": {},
     "output_type": "execute_result"
    }
   ],
   "source": [
    "str1 = 'anagrax'\n",
    "str2 = 'nagaram'\n",
    "str3 = 'apple'\n",
    "\n",
    "check_ana(str1,str3)"
   ]
  },
  {
   "cell_type": "code",
   "execution_count": null,
   "id": "ba738226",
   "metadata": {},
   "outputs": [],
   "source": []
  },
  {
   "cell_type": "code",
   "execution_count": null,
   "id": "88c4a48e",
   "metadata": {},
   "outputs": [],
   "source": []
  },
  {
   "cell_type": "code",
   "execution_count": null,
   "id": "6f0085ba",
   "metadata": {},
   "outputs": [],
   "source": []
  },
  {
   "cell_type": "code",
   "execution_count": null,
   "id": "106d62f1",
   "metadata": {},
   "outputs": [],
   "source": []
  },
  {
   "cell_type": "code",
   "execution_count": 1,
   "id": "d48d0168",
   "metadata": {},
   "outputs": [
    {
     "name": "stdout",
     "output_type": "stream",
     "text": [
      "word1_dict = {'e': 3, 'l': 2, 'v': 1, 'n': 1, ' ': 2, 'p': 1, 'u': 1, 's': 1, 't': 1, 'w': 1, 'o': 1}\n",
      "word2_dict = {'t': 1, 'w': 1, 'e': 3, 'l': 2, 'v': 1, ' ': 2, 'p': 1, 'u': 1, 's': 1, 'o': 1, 'n': 1}\n",
      "Anagram\n"
     ]
    }
   ],
   "source": [
    "## My method\n",
    "\n",
    "# anagram meaning \n",
    "\n",
    "\n",
    "\"\"\"\n",
    "five pairs of words that are anagrams of each other\n",
    "    Listen - Silent\n",
    "    Astronomer - Moonstarer\n",
    "    Dormitory - Dirty room\n",
    "    Funeral - Real fun\n",
    "    Eleven plus two - Twelve plus one\n",
    "\n",
    "\"\"\"\n",
    "\n",
    "\n",
    "word1 = \"Eleven plus two\"\n",
    "word2 = \"Twelve plus one\"\n",
    "\n",
    "word1_dict = {}\n",
    "word2_dict = {}\n",
    "for i in word1.lower():\n",
    "    word1_dict[i] = word1_dict.get(i, 0) + 1\n",
    "\n",
    "\n",
    "for i2 in word2.lower():\n",
    "    word2_dict[i2] = word2_dict.get(i2, 0) + 1\n",
    "\n",
    "print(f\"word1_dict = {word1_dict}\")\n",
    "print(f\"word2_dict = {word2_dict}\")\n",
    "\n",
    "\n",
    "# check\n",
    "\n",
    "for i in word1_dict:\n",
    "    if word1_dict[i] != word2_dict.get(i,0):\n",
    "        print(\"Not anagram\")\n",
    "        break\n",
    "else:\n",
    "    print(\"Anagram\")\n"
   ]
  },
  {
   "cell_type": "code",
   "execution_count": null,
   "id": "d36d5d8f",
   "metadata": {},
   "outputs": [],
   "source": []
  }
 ],
 "metadata": {
  "kernelspec": {
   "display_name": "Python 3",
   "language": "python",
   "name": "python3"
  },
  "language_info": {
   "codemirror_mode": {
    "name": "ipython",
    "version": 3
   },
   "file_extension": ".py",
   "mimetype": "text/x-python",
   "name": "python",
   "nbconvert_exporter": "python",
   "pygments_lexer": "ipython3",
   "version": "3.11.2"
  }
 },
 "nbformat": 4,
 "nbformat_minor": 5
}
