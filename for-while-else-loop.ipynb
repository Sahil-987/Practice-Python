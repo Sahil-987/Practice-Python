{
 "cells": [
  {
   "cell_type": "markdown",
   "metadata": {},
   "source": [
    "<h3>Note</h3>\n",
    "<ul>\n",
    "<h5>\n",
    "<li>In summary, the else clause in Python loops provides a way to execute code when the loop completes normally, <br/>\n",
    "without early termination by a break statement</li>\n",
    "<li>If the loop encounters a break, the else block is skipped\n",
    "</h5>\n",
    "</ul>"
   ]
  },
  {
   "cell_type": "code",
   "execution_count": 1,
   "metadata": {},
   "outputs": [
    {
     "name": "stdout",
     "output_type": "stream",
     "text": [
      "Found 5\n",
      "Did not find 5\n"
     ]
    }
   ],
   "source": [
    "# note : here both if and else block gets executed\n",
    "\n",
    "numbers = [1, 2, 3, 4, 5]\n",
    "for num in numbers:\n",
    "    if num == 5:\n",
    "        print(\"Found 5\")\n",
    "else:\n",
    "    print(\"Did not find 5\")\n"
   ]
  },
  {
   "cell_type": "code",
   "execution_count": 3,
   "metadata": {},
   "outputs": [
    {
     "name": "stdout",
     "output_type": "stream",
     "text": [
      "Found 5\n"
     ]
    }
   ],
   "source": [
    "# note : here only if block gets executed\n",
    "\n",
    "numbers = [1, 2, 3, 4, 5]\n",
    "for num in numbers:\n",
    "    if num == 5:\n",
    "        print(\"Found 5\")\n",
    "        break\n",
    "else:\n",
    "    print(\"Did not find 5\")"
   ]
  },
  {
   "cell_type": "code",
   "execution_count": null,
   "metadata": {},
   "outputs": [],
   "source": []
  }
 ],
 "metadata": {
  "kernelspec": {
   "display_name": "Python 3",
   "language": "python",
   "name": "python3"
  },
  "language_info": {
   "codemirror_mode": {
    "name": "ipython",
    "version": 3
   },
   "file_extension": ".py",
   "mimetype": "text/x-python",
   "name": "python",
   "nbconvert_exporter": "python",
   "pygments_lexer": "ipython3",
   "version": "3.11.2"
  },
  "orig_nbformat": 4
 },
 "nbformat": 4,
 "nbformat_minor": 2
}
