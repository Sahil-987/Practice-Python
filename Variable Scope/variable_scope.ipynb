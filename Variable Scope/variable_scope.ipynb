{
 "cells": [
  {
   "cell_type": "code",
   "execution_count": 6,
   "metadata": {},
   "outputs": [
    {
     "name": "stdout",
     "output_type": "stream",
     "text": [
      "Inside my_function x = 4\n",
      "Outside my_function x = 5 | Note x ki value modify nahi hui\n"
     ]
    }
   ],
   "source": [
    "x = 5\n",
    "\n",
    "def my_function():\n",
    "    x = 4\n",
    "    print(f\"Inside my_function x = {x}\")\n",
    "\n",
    "\n",
    "# call\n",
    "my_function()\n",
    "print(f\"Outside my_function x = {x}\" , \"| Note x ki value modify nahi hui\")"
   ]
  },
  {
   "cell_type": "code",
   "execution_count": 7,
   "metadata": {},
   "outputs": [
    {
     "name": "stdout",
     "output_type": "stream",
     "text": [
      "Inside my_function x = 4\n",
      "Outside my_function x = 4 | Note x ki value modify nahi hui\n"
     ]
    }
   ],
   "source": [
    "# agar global variable ki value modify karni h, inside a function\n",
    "## but ye bahut kharab cheez h, aisa kabhi bhi nahi karna chahiye --> global variables ko inside a function modify nahi karna chahiye\n",
    "\n",
    "x = 5\n",
    "\n",
    "def my_function():\n",
    "    global x\n",
    "    x = 4\n",
    "    print(f\"Inside my_function x = {x}\")\n",
    "\n",
    "\n",
    "# call\n",
    "my_function()\n",
    "print(f\"Outside my_function x = {x}\" , \"| Note iss time x ki value modify hui\")"
   ]
  },
  {
   "cell_type": "code",
   "execution_count": 12,
   "metadata": {},
   "outputs": [
    {
     "name": "stdout",
     "output_type": "stream",
     "text": [
      "Inside my_function x = 4\n",
      "Inside my_function y = 3\n",
      "Outside my_function x = 5\n",
      "Outside my_function y = 3\n"
     ]
    }
   ],
   "source": [
    "## kab error aati h\n",
    "\n",
    "\n",
    "x = 5\n",
    "\n",
    "def my_function():\n",
    "    x = 4\n",
    "    y = 3\n",
    "    print(f\"Inside my_function x = {x}\")\n",
    "    print(f\"Inside my_function y = {y}\")\n",
    "\n",
    "\n",
    "\n",
    "# call\n",
    "my_function()\n",
    "print(f\"Outside my_function x = {x}\")\n",
    "try:\n",
    "    print(f\"Outside my_function y = {y}\")\n",
    "except Exception as e:\n",
    "    print(\"****Error*******\")\n",
    "    print(e)"
   ]
  },
  {
   "cell_type": "code",
   "execution_count": null,
   "metadata": {},
   "outputs": [],
   "source": []
  }
 ],
 "metadata": {
  "kernelspec": {
   "display_name": "Python 3",
   "language": "python",
   "name": "python3"
  },
  "language_info": {
   "codemirror_mode": {
    "name": "ipython",
    "version": 3
   },
   "file_extension": ".py",
   "mimetype": "text/x-python",
   "name": "python",
   "nbconvert_exporter": "python",
   "pygments_lexer": "ipython3",
   "version": "3.11.2"
  },
  "orig_nbformat": 4
 },
 "nbformat": 4,
 "nbformat_minor": 2
}
