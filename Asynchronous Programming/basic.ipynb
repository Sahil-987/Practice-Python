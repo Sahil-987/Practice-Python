{
 "cells": [
  {
   "cell_type": "code",
   "execution_count": 4,
   "metadata": {},
   "outputs": [
    {
     "name": "stdout",
     "output_type": "stream",
     "text": [
      "making coffee\n",
      "coffee done!\n",
      "making beagle\n",
      "beagle done!\n",
      "time taken : 9.001968622207642\n"
     ]
    }
   ],
   "source": [
    "import time\n",
    "\n",
    "def coffee():\n",
    "    print(\"making coffee\")\n",
    "    time.sleep(5)\n",
    "    print(\"coffee done!\")\n",
    "    return \"coffee done!\"\n",
    "\n",
    "\n",
    "\n",
    "def beagle():\n",
    "    print(\"making beagle\")\n",
    "    time.sleep(4)\n",
    "    print(\"beagle done!\")\n",
    "    return \"beagle done!\"\n",
    "\n",
    "\n",
    "def main():\n",
    "    start = time.time()\n",
    "    coffee()\n",
    "    beagle()\n",
    "    end = time.time()\n",
    "    time_taken = end - start\n",
    "    print(f\"time taken : {time_taken}\")\n",
    "    return\n",
    "\n",
    "\n",
    "if __name__ == \"__main__\":\n",
    "    main()\n"
   ]
  },
  {
   "cell_type": "code",
   "execution_count": 5,
   "metadata": {},
   "outputs": [
    {
     "name": "stderr",
     "output_type": "stream",
     "text": [
      "Exception ignored in: <coroutine object main at 0x0000025A448908B0>\n",
      "Traceback (most recent call last):\n",
      "  File \"<string>\", line 1, in <lambda>\n",
      "KeyError: '__import__'\n",
      "Exception ignored in: <coroutine object main at 0x0000025A448908B0>\n",
      "Traceback (most recent call last):\n",
      "  File \"<string>\", line 1, in <lambda>\n",
      "KeyError: '__import__'\n"
     ]
    },
    {
     "ename": "RuntimeError",
     "evalue": "asyncio.run() cannot be called from a running event loop",
     "output_type": "error",
     "traceback": [
      "\u001b[1;31m---------------------------------------------------------------------------\u001b[0m",
      "\u001b[1;31mRuntimeError\u001b[0m                              Traceback (most recent call last)",
      "\u001b[1;32mc:\\Users\\being\\Dt Sci-Work\\Practice - Python\\Asynchronous Programming\\basic.ipynb Cell 2\u001b[0m line \u001b[0;36m3\n\u001b[0;32m     <a href='vscode-notebook-cell:/c%3A/Users/being/Dt%20Sci-Work/Practice%20-%20Python/Asynchronous%20Programming/basic.ipynb#W1sZmlsZQ%3D%3D?line=28'>29</a>\u001b[0m     \u001b[39mprint\u001b[39m(\u001b[39mf\u001b[39m\u001b[39m\"\u001b[39m\u001b[39mtime taken : \u001b[39m\u001b[39m{\u001b[39;00mtime_taken\u001b[39m}\u001b[39;00m\u001b[39m\"\u001b[39m)\n\u001b[0;32m     <a href='vscode-notebook-cell:/c%3A/Users/being/Dt%20Sci-Work/Practice%20-%20Python/Asynchronous%20Programming/basic.ipynb#W1sZmlsZQ%3D%3D?line=31'>32</a>\u001b[0m \u001b[39mif\u001b[39;00m \u001b[39m__name__\u001b[39m \u001b[39m==\u001b[39m \u001b[39m\"\u001b[39m\u001b[39m__main__\u001b[39m\u001b[39m\"\u001b[39m:\n\u001b[1;32m---> <a href='vscode-notebook-cell:/c%3A/Users/being/Dt%20Sci-Work/Practice%20-%20Python/Asynchronous%20Programming/basic.ipynb#W1sZmlsZQ%3D%3D?line=32'>33</a>\u001b[0m     asyncio\u001b[39m.\u001b[39;49mrun(main())\n",
      "File \u001b[1;32mc:\\Python311\\Lib\\asyncio\\runners.py:186\u001b[0m, in \u001b[0;36mrun\u001b[1;34m(main, debug)\u001b[0m\n\u001b[0;32m    161\u001b[0m \u001b[39m\u001b[39m\u001b[39m\"\"\"Execute the coroutine and return the result.\u001b[39;00m\n\u001b[0;32m    162\u001b[0m \n\u001b[0;32m    163\u001b[0m \u001b[39mThis function runs the passed coroutine, taking care of\u001b[39;00m\n\u001b[1;32m   (...)\u001b[0m\n\u001b[0;32m    182\u001b[0m \u001b[39m    asyncio.run(main())\u001b[39;00m\n\u001b[0;32m    183\u001b[0m \u001b[39m\"\"\"\u001b[39;00m\n\u001b[0;32m    184\u001b[0m \u001b[39mif\u001b[39;00m events\u001b[39m.\u001b[39m_get_running_loop() \u001b[39mis\u001b[39;00m \u001b[39mnot\u001b[39;00m \u001b[39mNone\u001b[39;00m:\n\u001b[0;32m    185\u001b[0m     \u001b[39m# fail fast with short traceback\u001b[39;00m\n\u001b[1;32m--> 186\u001b[0m     \u001b[39mraise\u001b[39;00m \u001b[39mRuntimeError\u001b[39;00m(\n\u001b[0;32m    187\u001b[0m         \u001b[39m\"\u001b[39m\u001b[39masyncio.run() cannot be called from a running event loop\u001b[39m\u001b[39m\"\u001b[39m)\n\u001b[0;32m    189\u001b[0m \u001b[39mwith\u001b[39;00m Runner(debug\u001b[39m=\u001b[39mdebug) \u001b[39mas\u001b[39;00m runner:\n\u001b[0;32m    190\u001b[0m     \u001b[39mreturn\u001b[39;00m runner\u001b[39m.\u001b[39mrun(main)\n",
      "\u001b[1;31mRuntimeError\u001b[0m: asyncio.run() cannot be called from a running event loop"
     ]
    }
   ],
   "source": [
    "import time\n",
    "import asyncio\n",
    "\n",
    "\n",
    "\n",
    "async def coffee():\n",
    "    print(\"making coffee\")\n",
    "    await asyncio.sleep(5)\n",
    "    print(\"coffee done!\")\n",
    "    return \"coffee func done!\"\n",
    "\n",
    "\n",
    "\n",
    "async def beagle():\n",
    "    print(\"making beagle\")\n",
    "    await asyncio.sleep(4)\n",
    "    print(\"beagle done!\")\n",
    "    return \"beagle func done!\"\n",
    "\n",
    "\n",
    "async def main():\n",
    "    start = time.time()\n",
    "\n",
    "    batch =  asyncio.gather(coffee(), beagle())\n",
    "    result_coffee, result_batch = await batch\n",
    "\n",
    "    end = time.time()\n",
    "    time_taken = end - start\n",
    "    print(f\"time taken : {time_taken}\")\n",
    "\n",
    "\n",
    "if __name__ == \"__main__\":\n",
    "    asyncio.run(main())\n"
   ]
  },
  {
   "cell_type": "code",
   "execution_count": null,
   "metadata": {},
   "outputs": [],
   "source": []
  },
  {
   "cell_type": "markdown",
   "metadata": {},
   "source": [
    "### rough"
   ]
  },
  {
   "cell_type": "code",
   "execution_count": 2,
   "metadata": {},
   "outputs": [
    {
     "name": "stdout",
     "output_type": "stream",
     "text": [
      "coffee prep....\n",
      "coffee done\n",
      "beagle prep.....\n",
      "beagle done\n",
      "time taken :  5.00766921043396\n"
     ]
    }
   ],
   "source": [
    "import time \n",
    "\n",
    "\n",
    "def make_coffee():\n",
    "    print(\"coffee prep....\")\n",
    "    time.sleep(2)\n",
    "    print(\"coffee done\")\n",
    "    return \"coffee func executed\"\n",
    "\n",
    "\n",
    "\n",
    "def make_beagle():\n",
    "    print(\"beagle prep.....\")\n",
    "    time.sleep(3)\n",
    "    print(\"beagle done\")\n",
    "    return \"beagle func executed\"\n",
    "\n",
    "\n",
    "\n",
    "def main():\n",
    "    start = time.time()\n",
    "    make_coffee()\n",
    "    make_beagle()\n",
    "    end = time.time()\n",
    "    time_taken = end -start \n",
    "    print(\"time taken : \", time_taken)\n",
    "\n",
    "\n",
    "\n",
    "\n",
    "if __name__ == \"__main__\":\n",
    "    main()\n"
   ]
  },
  {
   "cell_type": "code",
   "execution_count": 4,
   "metadata": {},
   "outputs": [
    {
     "ename": "RuntimeError",
     "evalue": "asyncio.run() cannot be called from a running event loop",
     "output_type": "error",
     "traceback": [
      "\u001b[1;31m---------------------------------------------------------------------------\u001b[0m",
      "\u001b[1;31mRuntimeError\u001b[0m                              Traceback (most recent call last)",
      "\u001b[1;32mc:\\Users\\being\\Dt Sci-Work\\Practice - Python\\Asynchronous Programming\\basic.ipynb Cell 6\u001b[0m line \u001b[0;36m3\n\u001b[0;32m     <a href='vscode-notebook-cell:/c%3A/Users/being/Dt%20Sci-Work/Practice%20-%20Python/Asynchronous%20Programming/basic.ipynb#W6sZmlsZQ%3D%3D?line=28'>29</a>\u001b[0m     \u001b[39mprint\u001b[39m(\u001b[39m\"\u001b[39m\u001b[39mtime taken : \u001b[39m\u001b[39m\"\u001b[39m, time_taken)\n\u001b[0;32m     <a href='vscode-notebook-cell:/c%3A/Users/being/Dt%20Sci-Work/Practice%20-%20Python/Asynchronous%20Programming/basic.ipynb#W6sZmlsZQ%3D%3D?line=33'>34</a>\u001b[0m \u001b[39mif\u001b[39;00m \u001b[39m__name__\u001b[39m \u001b[39m==\u001b[39m \u001b[39m\"\u001b[39m\u001b[39m__main__\u001b[39m\u001b[39m\"\u001b[39m:\n\u001b[1;32m---> <a href='vscode-notebook-cell:/c%3A/Users/being/Dt%20Sci-Work/Practice%20-%20Python/Asynchronous%20Programming/basic.ipynb#W6sZmlsZQ%3D%3D?line=34'>35</a>\u001b[0m     asyncio\u001b[39m.\u001b[39;49mrun(main())\n",
      "File \u001b[1;32mc:\\Python311\\Lib\\asyncio\\runners.py:186\u001b[0m, in \u001b[0;36mrun\u001b[1;34m(main, debug)\u001b[0m\n\u001b[0;32m    161\u001b[0m \u001b[39m\u001b[39m\u001b[39m\"\"\"Execute the coroutine and return the result.\u001b[39;00m\n\u001b[0;32m    162\u001b[0m \n\u001b[0;32m    163\u001b[0m \u001b[39mThis function runs the passed coroutine, taking care of\u001b[39;00m\n\u001b[1;32m   (...)\u001b[0m\n\u001b[0;32m    182\u001b[0m \u001b[39m    asyncio.run(main())\u001b[39;00m\n\u001b[0;32m    183\u001b[0m \u001b[39m\"\"\"\u001b[39;00m\n\u001b[0;32m    184\u001b[0m \u001b[39mif\u001b[39;00m events\u001b[39m.\u001b[39m_get_running_loop() \u001b[39mis\u001b[39;00m \u001b[39mnot\u001b[39;00m \u001b[39mNone\u001b[39;00m:\n\u001b[0;32m    185\u001b[0m     \u001b[39m# fail fast with short traceback\u001b[39;00m\n\u001b[1;32m--> 186\u001b[0m     \u001b[39mraise\u001b[39;00m \u001b[39mRuntimeError\u001b[39;00m(\n\u001b[0;32m    187\u001b[0m         \u001b[39m\"\u001b[39m\u001b[39masyncio.run() cannot be called from a running event loop\u001b[39m\u001b[39m\"\u001b[39m)\n\u001b[0;32m    189\u001b[0m \u001b[39mwith\u001b[39;00m Runner(debug\u001b[39m=\u001b[39mdebug) \u001b[39mas\u001b[39;00m runner:\n\u001b[0;32m    190\u001b[0m     \u001b[39mreturn\u001b[39;00m runner\u001b[39m.\u001b[39mrun(main)\n",
      "\u001b[1;31mRuntimeError\u001b[0m: asyncio.run() cannot be called from a running event loop"
     ]
    }
   ],
   "source": [
    "import asyncio \n",
    "\n",
    "\n",
    "\n",
    "async def make_coffee():\n",
    "    print(\"coffee prep....\")\n",
    "    await asyncio.sleep(2)\n",
    "    print(\"coffee done\")\n",
    "    return \"coffee func executed\"\n",
    "\n",
    "\n",
    "\n",
    "async def make_beagle():\n",
    "    print(\"beagle prep.....\")\n",
    "    await asyncio.sleep(3)\n",
    "    print(\"beagle done\")\n",
    "    return \"beagle func executed\"\n",
    "\n",
    "\n",
    "\n",
    "async def main():\n",
    "    start = time.time()\n",
    "\n",
    "    batch = asyncio.gather(make_coffee(), make_beagle())\n",
    "    coffee_result, beagle_result = await batch\n",
    "\n",
    "    end = time.time()\n",
    "    time_taken = end -start \n",
    "    print(\"time taken : \", time_taken)\n",
    "\n",
    "\n",
    "\n",
    "\n",
    "if __name__ == \"__main__\":\n",
    "    asyncio.run(main())\n",
    "\n"
   ]
  },
  {
   "cell_type": "code",
   "execution_count": null,
   "metadata": {},
   "outputs": [],
   "source": []
  }
 ],
 "metadata": {
  "kernelspec": {
   "display_name": "Python 3",
   "language": "python",
   "name": "python3"
  },
  "language_info": {
   "codemirror_mode": {
    "name": "ipython",
    "version": 3
   },
   "file_extension": ".py",
   "mimetype": "text/x-python",
   "name": "python",
   "nbconvert_exporter": "python",
   "pygments_lexer": "ipython3",
   "version": "3.11.2"
  }
 },
 "nbformat": 4,
 "nbformat_minor": 2
}
