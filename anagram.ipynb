{
 "cells": [
  {
   "cell_type": "markdown",
   "id": "8380a01f",
   "metadata": {},
   "source": [
    "## Neetcode | Method - 1 Dictionary wala"
   ]
  },
  {
   "cell_type": "code",
   "execution_count": 1,
   "id": "e365f9fb",
   "metadata": {},
   "outputs": [],
   "source": [
    "str1 = 'anagram'\n",
    "str2 = 'nagaram'"
   ]
  },
  {
   "cell_type": "code",
   "execution_count": 2,
   "id": "2f453fd2",
   "metadata": {},
   "outputs": [],
   "source": [
    "# create count_dict\n",
    "\n",
    "\n"
   ]
  },
  {
   "cell_type": "code",
   "execution_count": 4,
   "id": "d78a4af9",
   "metadata": {},
   "outputs": [],
   "source": [
    "# check\n",
    "\n",
    "def check_ana(str1, str2):\n",
    "    # check dict-count\n",
    "    if len(str1) != len(str2):\n",
    "        return \"Not Anagram\"\n",
    "    \n",
    "    else: \n",
    "        count_dict1 = {}\n",
    "        count_dict2 = {}\n",
    "\n",
    "        for i,j in zip(str1, str2):\n",
    "            count_dict1[i] = count_dict1.get(i,0) + 1    \n",
    "            count_dict2[j] = count_dict2.get(j,0) + 1\n",
    "            \n",
    "            \n",
    "        for i in count_dict1:\n",
    "            if count_dict1[i] != count_dict2.get(i,0):\n",
    "                return \"not Anagram\"\n",
    "        \n",
    "        \n",
    "        return \"It's Anagram\"\n",
    "        \n",
    "        \n",
    "\n",
    "    "
   ]
  },
  {
   "cell_type": "code",
   "execution_count": 5,
   "id": "2e56b993",
   "metadata": {},
   "outputs": [
    {
     "data": {
      "text/plain": [
       "'Not Anagram'"
      ]
     },
     "execution_count": 5,
     "metadata": {},
     "output_type": "execute_result"
    }
   ],
   "source": [
    "str1 = 'anagrax'\n",
    "str2 = 'nagaram'\n",
    "str3 = 'apple'\n",
    "\n",
    "check_ana(str1,str3)"
   ]
  },
  {
   "cell_type": "code",
   "execution_count": null,
   "id": "d48d0168",
   "metadata": {},
   "outputs": [],
   "source": []
  }
 ],
 "metadata": {
  "kernelspec": {
   "display_name": "test_env",
   "language": "python",
   "name": "test_env"
  },
  "language_info": {
   "codemirror_mode": {
    "name": "ipython",
    "version": 3
   },
   "file_extension": ".py",
   "mimetype": "text/x-python",
   "name": "python",
   "nbconvert_exporter": "python",
   "pygments_lexer": "ipython3",
   "version": "3.11.2"
  }
 },
 "nbformat": 4,
 "nbformat_minor": 5
}
