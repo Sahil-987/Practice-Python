{
 "cells": [
  {
   "cell_type": "code",
   "execution_count": 1,
   "metadata": {},
   "outputs": [
    {
     "name": "stdout",
     "output_type": "stream",
     "text": [
      "0.5\n",
      "div_modifier :  2.0\n"
     ]
    }
   ],
   "source": [
    "\n",
    "def div(a,b):\n",
    "    return a/b\n",
    "\n",
    "\n",
    "def div_modifier(func):\n",
    "    def modifier(x,y):\n",
    "        if x < y:\n",
    "            x,y = y,x\n",
    "    \n",
    "        return func(x,y)\n",
    "    return modifier\n",
    "\n",
    "\n",
    "\n",
    "if __name__ == \"__main__\":\n",
    "    num1 = 2\n",
    "    num2 = 4\n",
    "    print(div(num1,num2))\n",
    "\n",
    "\n",
    "\n",
    "    # now connect div to div_modifier\n",
    "    result = div_modifier(div)\n",
    "    print(\"div_modifier : \",result(num1,num2))"
   ]
  },
  {
   "cell_type": "code",
   "execution_count": 37,
   "metadata": {},
   "outputs": [],
   "source": [
    "\n",
    "def calc_sq(input_):\n",
    "    input_2 = []\n",
    "    for i in input_:\n",
    "        input_2.append(i**2)\n",
    "\n",
    "    return input_2\n",
    "\n",
    "\n",
    "def calc_cub(input_):\n",
    "    input_2 = []\n",
    "    for i in input_:\n",
    "        input_2.append(i**3)\n",
    "\n",
    "    return input_2\n",
    "\n",
    "\n",
    "\n",
    "def time_taken(func):\n",
    "    import time\n",
    "    def main(arg1):\n",
    "        t1 = time.time()\n",
    "        print(func(arg1))\n",
    "        t2 = time.time()\n",
    "        print(f\"time taken : {t2-t1}\")\n",
    "        return func\n",
    "    return main\n"
   ]
  },
  {
   "cell_type": "code",
   "execution_count": 38,
   "metadata": {},
   "outputs": [
    {
     "name": "stdout",
     "output_type": "stream",
     "text": [
      "[1, 4, 9, 16]\n",
      "[1, 8, 27, 64]\n"
     ]
    }
   ],
   "source": [
    "x = [1,2,3,4]\n",
    "print(calc_sq(x))\n",
    "print(calc_cub(x))"
   ]
  },
  {
   "cell_type": "code",
   "execution_count": 3,
   "metadata": {},
   "outputs": [
    {
     "ename": "NameError",
     "evalue": "name 'time_taken' is not defined",
     "output_type": "error",
     "traceback": [
      "\u001b[1;31m---------------------------------------------------------------------------\u001b[0m",
      "\u001b[1;31mNameError\u001b[0m                                 Traceback (most recent call last)",
      "Cell \u001b[1;32mIn[3], line 2\u001b[0m\n\u001b[0;32m      1\u001b[0m y \u001b[39m=\u001b[39m \u001b[39mlist\u001b[39m(\u001b[39mrange\u001b[39m(\u001b[39m1000000\u001b[39m))\n\u001b[1;32m----> 2\u001b[0m result \u001b[39m=\u001b[39m time_taken(calc_sq)\n\u001b[0;32m      3\u001b[0m result(y)\n",
      "\u001b[1;31mNameError\u001b[0m: name 'time_taken' is not defined"
     ]
    }
   ],
   "source": [
    "\n",
    "y = list(range(1000000))\n",
    "result = time_taken(calc_sq)\n",
    "result(y)\n"
   ]
  },
  {
   "cell_type": "markdown",
   "metadata": {},
   "source": [
    "### ref : Telusko-Yt"
   ]
  },
  {
   "cell_type": "code",
   "execution_count": 4,
   "metadata": {},
   "outputs": [
    {
     "name": "stdout",
     "output_type": "stream",
     "text": [
      "1.5\n"
     ]
    }
   ],
   "source": [
    "def modify_div(fun):\n",
    "    def main(a,b):\n",
    "        if a < b:\n",
    "            a,b = b,a\n",
    "        return fun(a,b)\n",
    "    return main\n",
    "\n",
    "@modify_div\n",
    "def div(a,b):\n",
    "    return a/b\n",
    "\n",
    "\n",
    "if __name__ == \"__main__\":\n",
    "    print(div(2,3))"
   ]
  },
  {
   "cell_type": "markdown",
   "metadata": {},
   "source": [
    "### prime numbers | Decorators (Myself)"
   ]
  },
  {
   "cell_type": "code",
   "execution_count": 6,
   "metadata": {},
   "outputs": [
    {
     "name": "stdout",
     "output_type": "stream",
     "text": [
      "time taken :  0.5518267154693604\n",
      "prime\n"
     ]
    }
   ],
   "source": [
    "def calc_time(fun):\n",
    "    import time\n",
    "    def main(num):\n",
    "        start = time.time()\n",
    "        result = fun(num)\n",
    "        print(\"time taken : \", time.time() - start)\n",
    "        return result\n",
    "    return main\n",
    "\n",
    "\n",
    "@calc_time\n",
    "def check_prime(num):\n",
    "    if num == 1:\n",
    "        return \"not prime\"\n",
    "    for i in range(2, num):\n",
    "        if num % i == 0:\n",
    "            return \"not prime\"\n",
    "    else:\n",
    "        return \"prime\"\n",
    "    \n",
    "\n",
    "if __name__ == \"__main__\":\n",
    "    print(check_prime(6700417))"
   ]
  },
  {
   "cell_type": "markdown",
   "metadata": {},
   "source": [
    "### add numbers | Decorators (Myself)"
   ]
  },
  {
   "cell_type": "code",
   "execution_count": null,
   "metadata": {},
   "outputs": [],
   "source": [
    "def add_mod(fun):\n",
    "    def main():\n",
    "        return fun() + float(input(\"enter num 3\"))\n",
    "    return main\n",
    "\n",
    "@add_mod\n",
    "def add():\n",
    "    num1 = float(input(\"enter num 1\"))\n",
    "    num2 = float(input(\"enter num 2\"))\n",
    "    result = num1 + num2\n",
    "    return result\n",
    "\n",
    "\n",
    "if __name__ == \"__main__\":\n",
    "    print(add())"
   ]
  },
  {
   "cell_type": "markdown",
   "metadata": {},
   "source": [
    "### codeyug - Yt | Multiple Decorators on a Function"
   ]
  },
  {
   "cell_type": "code",
   "execution_count": null,
   "metadata": {},
   "outputs": [],
   "source": [
    "def decor2(fun): # returns name in the form of list of first and last name\n",
    "    def main():\n",
    "        return fun().split()\n",
    "    return main\n",
    "\n",
    "\n",
    "def decor1(fun): # convert name to upper case\n",
    "    def main():\n",
    "        return fun().upper()\n",
    "    return main\n",
    "\n",
    "@decor2 \n",
    "@decor1\n",
    "def get_name():\n",
    "    firstname = input(\"enter first name\")\n",
    "    lastname = input(\"enter last name\")\n",
    "    return firstname + \" \" +lastname\n",
    "\n",
    "\n",
    "\n",
    "if __name__ == \"__main__\":\n",
    "    print(get_name())"
   ]
  },
  {
   "cell_type": "code",
   "execution_count": 1,
   "metadata": {},
   "outputs": [
    {
     "name": "stdout",
     "output_type": "stream",
     "text": [
      "0.4\n",
      "cannot divide by zero\n",
      "\n",
      "*******************\n",
      "\n",
      "0.4\n",
      "cannot divide by zero\n",
      "cannot divide by zero\n"
     ]
    }
   ],
   "source": [
    "# code-yug Yt\n",
    "\n",
    "\n",
    "def div_modifier(fun):\n",
    "    def main(*args):\n",
    "        for i in args[1:]:\n",
    "            if i == 0:\n",
    "                return \"cannot divide by zero\"\n",
    "        return fun(*args)\n",
    "    return main\n",
    "\n",
    "\n",
    "\n",
    "@div_modifier\n",
    "def div1(a,b):\n",
    "    return a/b\n",
    "\n",
    "@div_modifier\n",
    "def div2(a,b,c):\n",
    "    return a/b/c\n",
    "\n",
    "\n",
    "\n",
    "x = div1(2,5)\n",
    "y = div1(2,0)\n",
    "print(x,y, sep = \"\\n\")\n",
    "\n",
    "print(\"\\n*******************\\n\")\n",
    "\n",
    "z1 = div2(2,1,5)\n",
    "z2 = div2(2,0,1)\n",
    "z3 = div2(2,0,0)\n",
    "print(z1,z2,z3, sep = \"\\n\")\n"
   ]
  },
  {
   "cell_type": "code",
   "execution_count": null,
   "metadata": {},
   "outputs": [],
   "source": []
  }
 ],
 "metadata": {
  "kernelspec": {
   "display_name": "Python 3",
   "language": "python",
   "name": "python3"
  },
  "language_info": {
   "codemirror_mode": {
    "name": "ipython",
    "version": 3
   },
   "file_extension": ".py",
   "mimetype": "text/x-python",
   "name": "python",
   "nbconvert_exporter": "python",
   "pygments_lexer": "ipython3",
   "version": "3.11.2"
  },
  "orig_nbformat": 4
 },
 "nbformat": 4,
 "nbformat_minor": 2
}
