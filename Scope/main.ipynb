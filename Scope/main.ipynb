{
 "cells": [
  {
   "cell_type": "code",
   "execution_count": 1,
   "metadata": {},
   "outputs": [],
   "source": [
    "import pandas as pd"
   ]
  },
  {
   "cell_type": "code",
   "execution_count": 3,
   "metadata": {},
   "outputs": [
    {
     "name": "stdout",
     "output_type": "stream",
     "text": [
      "length = 43\n"
     ]
    },
    {
     "data": {
      "text/html": [
       "<div>\n",
       "<style scoped>\n",
       "    .dataframe tbody tr th:only-of-type {\n",
       "        vertical-align: middle;\n",
       "    }\n",
       "\n",
       "    .dataframe tbody tr th {\n",
       "        vertical-align: top;\n",
       "    }\n",
       "\n",
       "    .dataframe thead th {\n",
       "        text-align: right;\n",
       "    }\n",
       "</style>\n",
       "<table border=\"1\" class=\"dataframe\">\n",
       "  <thead>\n",
       "    <tr style=\"text-align: right;\">\n",
       "      <th></th>\n",
       "      <th>_id</th>\n",
       "      <th>Substations</th>\n",
       "      <th>Telephone Numbers</th>\n",
       "      <th>Address</th>\n",
       "      <th>Voltage Class</th>\n",
       "      <th>Coordinates</th>\n",
       "    </tr>\n",
       "  </thead>\n",
       "  <tbody>\n",
       "    <tr>\n",
       "      <th>0</th>\n",
       "      <td>1</td>\n",
       "      <td>Bawana</td>\n",
       "      <td>27791190/1193/1210</td>\n",
       "      <td>400kV Sub-Station Bawana, Sector-5, DSIIDC Baw...</td>\n",
       "      <td>400 kV</td>\n",
       "      <td>28.79568, 77.0723</td>\n",
       "    </tr>\n",
       "    <tr>\n",
       "      <th>1</th>\n",
       "      <td>2</td>\n",
       "      <td>Bamnauli</td>\n",
       "      <td>25314199/25314204</td>\n",
       "      <td>Village-Bamnauli, P.O. Dhul Sirus, Near Chhawa...</td>\n",
       "      <td>400 kV</td>\n",
       "      <td>28.5447, 77.03269</td>\n",
       "    </tr>\n",
       "    <tr>\n",
       "      <th>2</th>\n",
       "      <td>3</td>\n",
       "      <td>Harsh Vihar</td>\n",
       "      <td>0120-6500138</td>\n",
       "      <td>Harsh Vihar, Loni Road (Near Bhopura Chowk), D...</td>\n",
       "      <td>400 kV</td>\n",
       "      <td>28.71185, 77.29044</td>\n",
       "    </tr>\n",
       "    <tr>\n",
       "      <th>3</th>\n",
       "      <td>4</td>\n",
       "      <td>Tikri Kalan(Mundka)</td>\n",
       "      <td>65108444/7290010893</td>\n",
       "      <td>Neewala Village Road, Near Vaishno Devi Mandir...</td>\n",
       "      <td>400 kV</td>\n",
       "      <td>28.67671, 76.98639</td>\n",
       "    </tr>\n",
       "    <tr>\n",
       "      <th>4</th>\n",
       "      <td>5</td>\n",
       "      <td>BTPS</td>\n",
       "      <td>26948637</td>\n",
       "      <td>Badarpur Thermal Power Station Complex, Badarp...</td>\n",
       "      <td>220 kV</td>\n",
       "      <td>28.50765, 77.30015</td>\n",
       "    </tr>\n",
       "  </tbody>\n",
       "</table>\n",
       "</div>"
      ],
      "text/plain": [
       "   _id          Substations    Telephone Numbers   \n",
       "0    1               Bawana   27791190/1193/1210  \\\n",
       "1    2             Bamnauli    25314199/25314204   \n",
       "2    3          Harsh Vihar         0120-6500138   \n",
       "3    4  Tikri Kalan(Mundka)  65108444/7290010893   \n",
       "4    5                 BTPS             26948637   \n",
       "\n",
       "                                             Address Voltage Class   \n",
       "0  400kV Sub-Station Bawana, Sector-5, DSIIDC Baw...        400 kV  \\\n",
       "1  Village-Bamnauli, P.O. Dhul Sirus, Near Chhawa...        400 kV   \n",
       "2  Harsh Vihar, Loni Road (Near Bhopura Chowk), D...        400 kV   \n",
       "3  Neewala Village Road, Near Vaishno Devi Mandir...        400 kV   \n",
       "4  Badarpur Thermal Power Station Complex, Badarp...        220 kV   \n",
       "\n",
       "          Coordinates  \n",
       "0   28.79568, 77.0723  \n",
       "1   28.5447, 77.03269  \n",
       "2  28.71185, 77.29044  \n",
       "3  28.67671, 76.98639  \n",
       "4  28.50765, 77.30015  "
      ]
     },
     "execution_count": 3,
     "metadata": {},
     "output_type": "execute_result"
    }
   ],
   "source": [
    "df_stn = pd.read_csv(\"./Delhi-Electricity-SubStations.csv\")\n",
    "print(f\"length = {len(df_stn)}\")\n",
    "df_stn.head()\n"
   ]
  },
  {
   "cell_type": "code",
   "execution_count": 14,
   "metadata": {},
   "outputs": [
    {
     "ename": "UnboundLocalError",
     "evalue": "cannot access local variable 'max_column' where it is not associated with a value",
     "output_type": "error",
     "traceback": [
      "\u001b[1;31m---------------------------------------------------------------------------\u001b[0m",
      "\u001b[1;31mUnboundLocalError\u001b[0m                         Traceback (most recent call last)",
      "\u001b[1;32mc:\\Users\\being\\Dt Sci-Work\\Jobs - Interview\\Fugetron\\main.ipynb Cell 4\u001b[0m line \u001b[0;36m1\n\u001b[0;32m      <a href='vscode-notebook-cell:/c%3A/Users/being/Dt%20Sci-Work/Jobs%20-%20Interview/Fugetron/main.ipynb#W3sZmlsZQ%3D%3D?line=5'>6</a>\u001b[0m         max_column \u001b[39m=\u001b[39m cur_len\n\u001b[0;32m      <a href='vscode-notebook-cell:/c%3A/Users/being/Dt%20Sci-Work/Jobs%20-%20Interview/Fugetron/main.ipynb#W3sZmlsZQ%3D%3D?line=6'>7</a>\u001b[0m     \u001b[39mreturn\u001b[39;00m max_column\n\u001b[1;32m---> <a href='vscode-notebook-cell:/c%3A/Users/being/Dt%20Sci-Work/Jobs%20-%20Interview/Fugetron/main.ipynb#W3sZmlsZQ%3D%3D?line=10'>11</a>\u001b[0m df_stn[\u001b[39m'\u001b[39m\u001b[39mmax-col-num\u001b[39m\u001b[39m'\u001b[39m] \u001b[39m=\u001b[39m df_stn[\u001b[39m'\u001b[39;49m\u001b[39mTelephone Numbers\u001b[39;49m\u001b[39m'\u001b[39;49m]\u001b[39m.\u001b[39;49mapply(tlphn_data)\n\u001b[0;32m     <a href='vscode-notebook-cell:/c%3A/Users/being/Dt%20Sci-Work/Jobs%20-%20Interview/Fugetron/main.ipynb#W3sZmlsZQ%3D%3D?line=12'>13</a>\u001b[0m \u001b[39m### approach 1 : find max number of column\u001b[39;00m\n",
      "File \u001b[1;32mc:\\Python311\\Lib\\site-packages\\pandas\\core\\series.py:4626\u001b[0m, in \u001b[0;36mSeries.apply\u001b[1;34m(self, func, convert_dtype, args, **kwargs)\u001b[0m\n\u001b[0;32m   4516\u001b[0m \u001b[39mdef\u001b[39;00m \u001b[39mapply\u001b[39m(\n\u001b[0;32m   4517\u001b[0m     \u001b[39mself\u001b[39m,\n\u001b[0;32m   4518\u001b[0m     func: AggFuncType,\n\u001b[1;32m   (...)\u001b[0m\n\u001b[0;32m   4521\u001b[0m     \u001b[39m*\u001b[39m\u001b[39m*\u001b[39mkwargs,\n\u001b[0;32m   4522\u001b[0m ) \u001b[39m-\u001b[39m\u001b[39m>\u001b[39m DataFrame \u001b[39m|\u001b[39m Series:\n\u001b[0;32m   4523\u001b[0m \u001b[39m    \u001b[39m\u001b[39m\"\"\"\u001b[39;00m\n\u001b[0;32m   4524\u001b[0m \u001b[39m    Invoke function on values of Series.\u001b[39;00m\n\u001b[0;32m   4525\u001b[0m \n\u001b[1;32m   (...)\u001b[0m\n\u001b[0;32m   4624\u001b[0m \u001b[39m    dtype: float64\u001b[39;00m\n\u001b[0;32m   4625\u001b[0m \u001b[39m    \"\"\"\u001b[39;00m\n\u001b[1;32m-> 4626\u001b[0m     \u001b[39mreturn\u001b[39;00m SeriesApply(\u001b[39mself\u001b[39;49m, func, convert_dtype, args, kwargs)\u001b[39m.\u001b[39;49mapply()\n",
      "File \u001b[1;32mc:\\Python311\\Lib\\site-packages\\pandas\\core\\apply.py:1025\u001b[0m, in \u001b[0;36mSeriesApply.apply\u001b[1;34m(self)\u001b[0m\n\u001b[0;32m   1022\u001b[0m     \u001b[39mreturn\u001b[39;00m \u001b[39mself\u001b[39m\u001b[39m.\u001b[39mapply_str()\n\u001b[0;32m   1024\u001b[0m \u001b[39m# self.f is Callable\u001b[39;00m\n\u001b[1;32m-> 1025\u001b[0m \u001b[39mreturn\u001b[39;00m \u001b[39mself\u001b[39;49m\u001b[39m.\u001b[39;49mapply_standard()\n",
      "File \u001b[1;32mc:\\Python311\\Lib\\site-packages\\pandas\\core\\apply.py:1076\u001b[0m, in \u001b[0;36mSeriesApply.apply_standard\u001b[1;34m(self)\u001b[0m\n\u001b[0;32m   1074\u001b[0m     \u001b[39melse\u001b[39;00m:\n\u001b[0;32m   1075\u001b[0m         values \u001b[39m=\u001b[39m obj\u001b[39m.\u001b[39mastype(\u001b[39mobject\u001b[39m)\u001b[39m.\u001b[39m_values\n\u001b[1;32m-> 1076\u001b[0m         mapped \u001b[39m=\u001b[39m lib\u001b[39m.\u001b[39;49mmap_infer(\n\u001b[0;32m   1077\u001b[0m             values,\n\u001b[0;32m   1078\u001b[0m             f,\n\u001b[0;32m   1079\u001b[0m             convert\u001b[39m=\u001b[39;49m\u001b[39mself\u001b[39;49m\u001b[39m.\u001b[39;49mconvert_dtype,\n\u001b[0;32m   1080\u001b[0m         )\n\u001b[0;32m   1082\u001b[0m \u001b[39mif\u001b[39;00m \u001b[39mlen\u001b[39m(mapped) \u001b[39mand\u001b[39;00m \u001b[39misinstance\u001b[39m(mapped[\u001b[39m0\u001b[39m], ABCSeries):\n\u001b[0;32m   1083\u001b[0m     \u001b[39m# GH#43986 Need to do list(mapped) in order to get treated as nested\u001b[39;00m\n\u001b[0;32m   1084\u001b[0m     \u001b[39m#  See also GH#25959 regarding EA support\u001b[39;00m\n\u001b[0;32m   1085\u001b[0m     \u001b[39mreturn\u001b[39;00m obj\u001b[39m.\u001b[39m_constructor_expanddim(\u001b[39mlist\u001b[39m(mapped), index\u001b[39m=\u001b[39mobj\u001b[39m.\u001b[39mindex)\n",
      "File \u001b[1;32mc:\\Python311\\Lib\\site-packages\\pandas\\_libs\\lib.pyx:2834\u001b[0m, in \u001b[0;36mpandas._libs.lib.map_infer\u001b[1;34m()\u001b[0m\n",
      "\u001b[1;32mc:\\Users\\being\\Dt Sci-Work\\Jobs - Interview\\Fugetron\\main.ipynb Cell 4\u001b[0m line \u001b[0;36m5\n\u001b[0;32m      <a href='vscode-notebook-cell:/c%3A/Users/being/Dt%20Sci-Work/Jobs%20-%20Interview/Fugetron/main.ipynb#W3sZmlsZQ%3D%3D?line=2'>3</a>\u001b[0m numb_list \u001b[39m=\u001b[39m \u001b[39mstr\u001b[39m(tlphn_numb)\u001b[39m.\u001b[39msplit(\u001b[39m\"\u001b[39m\u001b[39m/\u001b[39m\u001b[39m\"\u001b[39m)\n\u001b[0;32m      <a href='vscode-notebook-cell:/c%3A/Users/being/Dt%20Sci-Work/Jobs%20-%20Interview/Fugetron/main.ipynb#W3sZmlsZQ%3D%3D?line=3'>4</a>\u001b[0m cur_len \u001b[39m=\u001b[39m \u001b[39mlen\u001b[39m(numb_list)\n\u001b[1;32m----> <a href='vscode-notebook-cell:/c%3A/Users/being/Dt%20Sci-Work/Jobs%20-%20Interview/Fugetron/main.ipynb#W3sZmlsZQ%3D%3D?line=4'>5</a>\u001b[0m \u001b[39mif\u001b[39;00m cur_len \u001b[39m>\u001b[39m max_column:\n\u001b[0;32m      <a href='vscode-notebook-cell:/c%3A/Users/being/Dt%20Sci-Work/Jobs%20-%20Interview/Fugetron/main.ipynb#W3sZmlsZQ%3D%3D?line=5'>6</a>\u001b[0m     max_column \u001b[39m=\u001b[39m cur_len\n\u001b[0;32m      <a href='vscode-notebook-cell:/c%3A/Users/being/Dt%20Sci-Work/Jobs%20-%20Interview/Fugetron/main.ipynb#W3sZmlsZQ%3D%3D?line=6'>7</a>\u001b[0m \u001b[39mreturn\u001b[39;00m max_column\n",
      "\u001b[1;31mUnboundLocalError\u001b[0m: cannot access local variable 'max_column' where it is not associated with a value"
     ]
    }
   ],
   "source": [
    "\"\"\" \n",
    "Question\n",
    "Create a data frame from the input (File: Delhi-Electricity-SubStation.csv).\n",
    "In Telephone Numbers there are multiple numbers.  Create separate columns for these Telephone1, Telephone2 etc.\n",
    "\n",
    "\"\"\"\n",
    "\n",
    "\n",
    "max_column = 0\n",
    "def tlphn_data(tlphn_numb):\n",
    "    numb_list = str(tlphn_numb).split(\"/\")\n",
    "    cur_len = len(numb_list)\n",
    "    if cur_len > max_column:\n",
    "        max_column = cur_len\n",
    "    return max_column\n",
    "\n",
    "\n",
    "df_stn['max-col-num'] = df_stn['Telephone Numbers'].apply(tlphn_data)\n",
    "\n"
   ]
  },
  {
   "cell_type": "code",
   "execution_count": 5,
   "metadata": {},
   "outputs": [
    {
     "data": {
      "text/plain": [
       "'\\nprompt : why it is giving error ?\\n\\npython code :\\nmax_column = 0\\ndef tlphn_data(tlphn_numb):\\n    numb_list = str(tlphn_numb).split(\"/\")\\n    cur_len = len(numb_list)\\n    if cur_len > max_column:\\n        max_column = cur_len\\n    return max_column\\n\\n\\ndf_stn[\\'max-col-num\\'] = df_stn[\\'Telephone Numbers\\'].apply(tlphn_data)\\n\\n\\nAnswer : \\n\\n\\n\\n\\n'"
      ]
     },
     "execution_count": 5,
     "metadata": {},
     "output_type": "execute_result"
    }
   ],
   "source": [
    "## solution ChatGPT\n",
    "\n",
    "\n",
    "\"\"\"\n",
    "prompt : why it is giving error ?\n",
    "\n",
    "python code :\n",
    "max_column = 0\n",
    "def tlphn_data(tlphn_numb):\n",
    "    numb_list = str(tlphn_numb).split(\"/\")\n",
    "    cur_len = len(numb_list)\n",
    "    if cur_len > max_column:\n",
    "        max_column = cur_len\n",
    "    return max_column\n",
    "\n",
    "\n",
    "df_stn['max-col-num'] = df_stn['Telephone Numbers'].apply(tlphn_data)\n",
    "\n",
    "\n",
    "Answer : \n",
    "\n",
    "\n",
    "The error you're encountering is likely due to the use of the `max_column` variable inside the `tlphn_data` function without properly declaring it as a global variable.\n",
    "\n",
    "In Python, when you want to modify a global variable from within a function, you need to explicitly declare it as a global variable using the `global` keyword. Without declaring it as global, Python will treat `max_column` as a local variable inside the function, which can lead to errors.\n",
    "\n",
    "To fix this issue, add the `global` keyword inside your `tlphn_data` function like this:\n",
    "\n",
    "```python\n",
    "max_column = 0\n",
    "def tlphn_data(tlphn_numb):\n",
    "    global max_column  # Declare max_column as a global variable\n",
    "    numb_list = str(tlphn_numb).split(\"/\")\n",
    "    cur_len = len(numb_list)\n",
    "    if cur_len > max_column:\n",
    "        max_column = cur_len\n",
    "    return max_column\n",
    "```\n",
    "\n",
    "By adding `global max_column`, you tell Python that you want to use the global `max_column` variable within the function, and any modifications made to it will affect the global variable.\n",
    "\n",
    "\"\"\""
   ]
  },
  {
   "cell_type": "code",
   "execution_count": null,
   "metadata": {},
   "outputs": [],
   "source": []
  },
  {
   "cell_type": "code",
   "execution_count": null,
   "metadata": {},
   "outputs": [],
   "source": []
  }
 ],
 "metadata": {
  "kernelspec": {
   "display_name": "Python 3",
   "language": "python",
   "name": "python3"
  },
  "language_info": {
   "codemirror_mode": {
    "name": "ipython",
    "version": 3
   },
   "file_extension": ".py",
   "mimetype": "text/x-python",
   "name": "python",
   "nbconvert_exporter": "python",
   "pygments_lexer": "ipython3",
   "version": "3.11.2"
  },
  "orig_nbformat": 4
 },
 "nbformat": 4,
 "nbformat_minor": 2
}
