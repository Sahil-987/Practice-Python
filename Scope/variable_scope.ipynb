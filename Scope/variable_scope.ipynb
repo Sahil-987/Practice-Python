{
 "cells": [
  {
   "cell_type": "code",
   "execution_count": 6,
   "metadata": {},
   "outputs": [
    {
     "name": "stdout",
     "output_type": "stream",
     "text": [
      "Inside my_function x = 4\n",
      "Outside my_function x = 5 | Note x ki value modify nahi hui\n"
     ]
    }
   ],
   "source": [
    "x = 5\n",
    "\n",
    "def my_function():\n",
    "    x = 4\n",
    "    print(f\"Inside my_function x = {x}\")\n",
    "\n",
    "\n",
    "# call\n",
    "my_function()\n",
    "print(f\"Outside my_function x = {x}\" , \"| Note x ki value modify nahi hui\")"
   ]
  },
  {
   "cell_type": "code",
   "execution_count": 7,
   "metadata": {},
   "outputs": [
    {
     "name": "stdout",
     "output_type": "stream",
     "text": [
      "Inside my_function x = 4\n",
      "Outside my_function x = 4 | Note x ki value modify nahi hui\n"
     ]
    }
   ],
   "source": [
    "# agar global variable ki value modify karni h, inside a function\n",
    "## but ye bahut kharab cheez h, aisa kabhi bhi nahi karna chahiye --> global variables ko inside a function modify nahi karna chahiye\n",
    "\n",
    "x = 5\n",
    "\n",
    "def my_function():\n",
    "    global x\n",
    "    x = 4\n",
    "    print(f\"Inside my_function x = {x}\")\n",
    "\n",
    "\n",
    "# call\n",
    "my_function()\n",
    "print(f\"Outside my_function x = {x}\" , \"| Note iss time x ki value modify hui\")"
   ]
  },
  {
   "cell_type": "code",
   "execution_count": 12,
   "metadata": {},
   "outputs": [
    {
     "name": "stdout",
     "output_type": "stream",
     "text": [
      "Inside my_function x = 4\n",
      "Inside my_function y = 3\n",
      "Outside my_function x = 5\n",
      "Outside my_function y = 3\n"
     ]
    }
   ],
   "source": [
    "## kab error aati h\n",
    "\n",
    "\n",
    "x = 5\n",
    "\n",
    "def my_function():\n",
    "    x = 4\n",
    "    y = 3\n",
    "    print(f\"Inside my_function x = {x}\")\n",
    "    print(f\"Inside my_function y = {y}\")\n",
    "\n",
    "\n",
    "\n",
    "# call\n",
    "my_function()\n",
    "print(f\"Outside my_function x = {x}\")\n",
    "try:\n",
    "    print(f\"Outside my_function y = {y}\")\n",
    "except Exception as e:\n",
    "    print(\"****Error*******\")\n",
    "    print(e)"
   ]
  },
  {
   "cell_type": "code",
   "execution_count": 1,
   "metadata": {},
   "outputs": [
    {
     "ename": "UnboundLocalError",
     "evalue": "cannot access local variable 'x' where it is not associated with a value",
     "output_type": "error",
     "traceback": [
      "\u001b[1;31m---------------------------------------------------------------------------\u001b[0m",
      "\u001b[1;31mUnboundLocalError\u001b[0m                         Traceback (most recent call last)",
      "\u001b[1;32mc:\\Users\\being\\Dt Sci-Work\\Practice - Python\\Variable Scope\\variable_scope.ipynb Cell 4\u001b[0m line \u001b[0;36m9\n\u001b[0;32m      <a href='vscode-notebook-cell:/c%3A/Users/being/Dt%20Sci-Work/Practice%20-%20Python/Variable%20Scope/variable_scope.ipynb#W3sZmlsZQ%3D%3D?line=5'>6</a>\u001b[0m     x \u001b[39m=\u001b[39m \u001b[39m3\u001b[39m\n\u001b[0;32m      <a href='vscode-notebook-cell:/c%3A/Users/being/Dt%20Sci-Work/Practice%20-%20Python/Variable%20Scope/variable_scope.ipynb#W3sZmlsZQ%3D%3D?line=6'>7</a>\u001b[0m     \u001b[39mreturn\u001b[39;00m x\n\u001b[1;32m----> <a href='vscode-notebook-cell:/c%3A/Users/being/Dt%20Sci-Work/Practice%20-%20Python/Variable%20Scope/variable_scope.ipynb#W3sZmlsZQ%3D%3D?line=8'>9</a>\u001b[0m check()\n",
      "\u001b[1;32mc:\\Users\\being\\Dt Sci-Work\\Practice - Python\\Variable Scope\\variable_scope.ipynb Cell 4\u001b[0m line \u001b[0;36m5\n\u001b[0;32m      <a href='vscode-notebook-cell:/c%3A/Users/being/Dt%20Sci-Work/Practice%20-%20Python/Variable%20Scope/variable_scope.ipynb#W3sZmlsZQ%3D%3D?line=3'>4</a>\u001b[0m \u001b[39mdef\u001b[39;00m \u001b[39mcheck\u001b[39m():\n\u001b[1;32m----> <a href='vscode-notebook-cell:/c%3A/Users/being/Dt%20Sci-Work/Practice%20-%20Python/Variable%20Scope/variable_scope.ipynb#W3sZmlsZQ%3D%3D?line=4'>5</a>\u001b[0m     \u001b[39mprint\u001b[39m(x)\n\u001b[0;32m      <a href='vscode-notebook-cell:/c%3A/Users/being/Dt%20Sci-Work/Practice%20-%20Python/Variable%20Scope/variable_scope.ipynb#W3sZmlsZQ%3D%3D?line=5'>6</a>\u001b[0m     x \u001b[39m=\u001b[39m \u001b[39m3\u001b[39m\n\u001b[0;32m      <a href='vscode-notebook-cell:/c%3A/Users/being/Dt%20Sci-Work/Practice%20-%20Python/Variable%20Scope/variable_scope.ipynb#W3sZmlsZQ%3D%3D?line=6'>7</a>\u001b[0m     \u001b[39mreturn\u001b[39;00m x\n",
      "\u001b[1;31mUnboundLocalError\u001b[0m: cannot access local variable 'x' where it is not associated with a value"
     ]
    }
   ],
   "source": [
    "x = 2\n",
    "\n",
    "\n",
    "def check():\n",
    "    print(x)\n",
    "    x = 3\n",
    "    return x\n",
    "\n",
    "check()"
   ]
  },
  {
   "cell_type": "code",
   "execution_count": null,
   "metadata": {},
   "outputs": [],
   "source": []
  }
 ],
 "metadata": {
  "kernelspec": {
   "display_name": "Python 3",
   "language": "python",
   "name": "python3"
  },
  "language_info": {
   "codemirror_mode": {
    "name": "ipython",
    "version": 3
   },
   "file_extension": ".py",
   "mimetype": "text/x-python",
   "name": "python",
   "nbconvert_exporter": "python",
   "pygments_lexer": "ipython3",
   "version": "3.11.2"
  },
  "orig_nbformat": 4
 },
 "nbformat": 4,
 "nbformat_minor": 2
}
