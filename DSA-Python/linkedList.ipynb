{
 "cells": [
  {
   "cell_type": "code",
   "execution_count": 26,
   "metadata": {},
   "outputs": [],
   "source": [
    "class Node:\n",
    "    def __init__(self, data=None,next=None):\n",
    "        self.data = data\n",
    "        self.next = next  # next element will also be the type Node\n",
    "    \n",
    "class Linkedlist:\n",
    "    def __init__(self):\n",
    "        self.head = None\n",
    "\n",
    "    def insert_at_begining(self,data):\n",
    "        node = Node(data,self.head)\n",
    "        self.head = node # for simplicity, self.head = Node(data,self.head)\n",
    "\n",
    "    def print(self):\n",
    "        if self.head is None:\n",
    "            print(\"Linked list is empty !\")\n",
    "            return\n",
    "        \n",
    "        itr = self.head\n",
    "        llstr = ''\n",
    "        while itr:\n",
    "            llstr += str(itr.data) + '-->'\n",
    "            itr = itr.next\n",
    "        print(llstr)\n",
    "\n",
    "\n",
    "    def insert_at_end(self,data):\n",
    "        if self.head is None: # if linked list is blnk\n",
    "            self.head = Node(data,None)\n",
    "            return\n",
    "        \n",
    "        # in-case its not blank\n",
    "        itr = self.head\n",
    "        while itr.next:\n",
    "            itr = itr.next \n",
    "        itr.next = Node(data,None)\n",
    "\n",
    "\n",
    "    def insert_values(self,data): \n",
    "        \"\"\"insert list or tuple into linked list\"\"\"\n",
    "        self.head = None\n",
    "        for i in data:\n",
    "            self.insert_at_end(i)\n",
    "\n",
    "    \n",
    "    def size(self):\n",
    "        count = 0\n",
    "        itr = self.head\n",
    "        while itr:\n",
    "            count += 1\n",
    "            itr = itr.next\n",
    "        return count\n",
    "\n",
    "\n",
    "    "
   ]
  },
  {
   "cell_type": "code",
   "execution_count": 27,
   "metadata": {},
   "outputs": [
    {
     "name": "stdout",
     "output_type": "stream",
     "text": [
      "3-->2-->1-->\n"
     ]
    }
   ],
   "source": [
    "x = Linkedlist()\n",
    "x.insert_at_begining(1)\n",
    "x.insert_at_begining(2)\n",
    "x.insert_at_begining(3)\n",
    "x.print()\n"
   ]
  },
  {
   "cell_type": "code",
   "execution_count": 28,
   "metadata": {},
   "outputs": [
    {
     "name": "stdout",
     "output_type": "stream",
     "text": [
      "3-->2-->1-->100-->99-->98-->\n"
     ]
    }
   ],
   "source": [
    "x.insert_at_end(100)\n",
    "x.insert_at_end(99)\n",
    "x.insert_at_end(98)\n",
    "x.print()"
   ]
  },
  {
   "cell_type": "code",
   "execution_count": 29,
   "metadata": {},
   "outputs": [
    {
     "name": "stdout",
     "output_type": "stream",
     "text": [
      "1-->2-->3-->\n"
     ]
    }
   ],
   "source": [
    "x.insert_values([1,2,3])\n",
    "x.print()"
   ]
  },
  {
   "attachments": {},
   "cell_type": "markdown",
   "metadata": {},
   "source": [
    "### Rough"
   ]
  },
  {
   "cell_type": "code",
   "execution_count": null,
   "metadata": {},
   "outputs": [],
   "source": [
    "class Node:\n",
    "    def __init__(self,data,next):\n",
    "        self.data = data\n",
    "        self.next = next\n",
    "\n",
    "\n",
    "class Linkedlist:\n",
    "\n",
    "    def insertatbegining(self,data):\n",
    "        x = Node(data,next=None)"
   ]
  },
  {
   "cell_type": "code",
   "execution_count": 1,
   "metadata": {},
   "outputs": [],
   "source": [
    "### Rough\n",
    "\n",
    "\n",
    "\n",
    "class Node:\n",
    "    def __init(self,value = None, next = None):\n",
    "        self.value = value\n",
    "        self.next = next\n",
    "\n",
    "\n",
    "\n",
    "class Linkedlist:\n",
    "    def __init__(self, value, next = None):\n",
    "        self.elm = Node(value,next)"
   ]
  },
  {
   "cell_type": "code",
   "execution_count": null,
   "metadata": {},
   "outputs": [],
   "source": []
  }
 ],
 "metadata": {
  "kernelspec": {
   "display_name": "Python 3",
   "language": "python",
   "name": "python3"
  },
  "language_info": {
   "codemirror_mode": {
    "name": "ipython",
    "version": 3
   },
   "file_extension": ".py",
   "mimetype": "text/x-python",
   "name": "python",
   "nbconvert_exporter": "python",
   "pygments_lexer": "ipython3",
   "version": "3.11.2"
  },
  "orig_nbformat": 4
 },
 "nbformat": 4,
 "nbformat_minor": 2
}
