{
 "cells": [
  {
   "cell_type": "markdown",
   "metadata": {},
   "source": [
    "### ref : yt - codebasics / video - Binary Tree Part 1 | BST | Binary Search Tree "
   ]
  },
  {
   "cell_type": "markdown",
   "metadata": {},
   "source": [
    "#### Notes\n",
    "\n",
    "<ul>\n",
    "    <li>Binary Tree : every node has max 2 nodes</li>\n",
    "    <li>Binary Search Tree : elements in left subtree are lesser than the element in current node \n",
    "    wheras elements in right subtree are greater than the element in current node</li>\n",
    "</ul>\n",
    "\n",
    "<h5> Note : </h5>\n",
    "<ul>\n",
    "    <li><p>Codebasics - Yt / video - Binary Tree Part 1 | BST | Binary Search Tree : about building a BST, exercise : find_min(), find_max(), pre & post order traversal</p></li>\n",
    "    <li><p>Codebasics - Yt / video - Binary Tree Part 2 | deletion</p></li>\n",
    "</ul>"
   ]
  },
  {
   "cell_type": "code",
   "execution_count": 1,
   "metadata": {},
   "outputs": [
    {
     "name": "stdout",
     "output_type": "stream",
     "text": [
      "[-5, 0, 1, 2, 3, 4, 5, 6, 7, 9]\n",
      "Check for a number\n",
      "True\n",
      "False\n",
      "find minimum\n",
      "-5\n"
     ]
    }
   ],
   "source": [
    "class BinarySearchTreeNode:\n",
    "    def __init__(self,data):\n",
    "        self.data = data\n",
    "        self.right = None\n",
    "        self.left = None\n",
    "\n",
    "\n",
    "    def add_child(self,data):\n",
    "        if data == self.data: # all elements are unique\n",
    "            return\n",
    "        \n",
    "\n",
    "        elif data < self.data: # add in left subtree\n",
    "            if self.left: # in-case, it has some value\n",
    "                self.left.add_child(data)\n",
    "\n",
    "\n",
    "            else: # in-case of root node, just add the element there \n",
    "                self.left = BinarySearchTreeNode(data)\n",
    "\n",
    "        else: # add data in right subtree\n",
    "            if self.right: # in-case, it has some value\n",
    "                self.right.add_child(data)\n",
    "\n",
    "\n",
    "            else: # in-case of root node, just add the element there\n",
    "                self.right = BinarySearchTreeNode(data)\n",
    "\n",
    "\n",
    "\n",
    "    def in_order_traversal(self): # in-order: left --> root --> right\n",
    "        elements = []\n",
    "\n",
    "        # left sub-tree\n",
    "        if self.left: # in-case, some elements are present\n",
    "            elements += self.left.in_order_traversal()\n",
    "\n",
    "        # base-node\n",
    "        elements.append(self.data)\n",
    "\n",
    "        # right sub-tree\n",
    "        if self.right:\n",
    "            elements += self.right.in_order_traversal()\n",
    "\n",
    "        return elements\n",
    "\n",
    "\n",
    "    def search(self,val):\n",
    "        if val == self.data:\n",
    "            return True\n",
    "        \n",
    "        if val < self.data: # given value can be in left sub-tree\n",
    "            if self.left:\n",
    "                return self.left.search(val)\n",
    "            else:\n",
    "                return False\n",
    "\n",
    "\n",
    "        if val > self.data: # given value can be in right sub-tree\n",
    "            if self.right:\n",
    "                return self.right.search(val)\n",
    "            else:\n",
    "                return False \n",
    "            \n",
    "\n",
    "    \n",
    "    # exercise-1\n",
    "    def find_min(self):\n",
    "        if self.left is None: # agar left wala node empty h, iska mtlb minimum value mil gai\n",
    "            return self.data # wo minimum value hogi left wale node ke data me\n",
    "        \n",
    "        return self.left.find_min() # agar left wala node empty nahi h, to aur left me jao\n",
    "\n",
    "\n",
    "\n",
    "\n",
    "    # exercise-2\n",
    "    def find_max(self):\n",
    "        if self.right is None:\n",
    "            return self.data\n",
    "        \n",
    "        self.right.find_max()\n",
    "\n",
    "\n",
    "# helper method to build tree \n",
    "# (note: isse sirf tree build kar rahe ho islie iske andar add_child method use hoyega, traversal wala nahi)\n",
    "def build_tree(elements):\n",
    "    root = BinarySearchTreeNode(elements[0])\n",
    "    for i in range(1,len(elements)):\n",
    "        root.add_child(elements[i])\n",
    "    return root\n",
    "    \n",
    "\n",
    "\n",
    "if __name__ == \"__main__\":\n",
    "    numbers = [3,1,6,4,0,9,7,2,5,4,-5]\n",
    "    numbers_tree = build_tree(numbers)\n",
    "    print(numbers_tree.in_order_traversal())\n",
    "    print(\"Check for a number\")\n",
    "    print(numbers_tree.search(2))\n",
    "    print(numbers_tree.search(-2))\n",
    "    print(\"find minimum\")\n",
    "    print(numbers_tree.find_min())\n"
   ]
  },
  {
   "cell_type": "code",
   "execution_count": null,
   "metadata": {},
   "outputs": [],
   "source": []
  },
  {
   "cell_type": "code",
   "execution_count": null,
   "metadata": {},
   "outputs": [],
   "source": []
  },
  {
   "cell_type": "code",
   "execution_count": null,
   "metadata": {},
   "outputs": [],
   "source": []
  },
  {
   "cell_type": "markdown",
   "metadata": {},
   "source": [
    "### Rough"
   ]
  },
  {
   "cell_type": "code",
   "execution_count": null,
   "metadata": {},
   "outputs": [],
   "source": [
    "\n",
    "\n",
    "class BinarySearchTree:\n",
    "    def __init__():\n",
    "        pass\n",
    "\n",
    "\n",
    "    def addData():\n",
    "        pass\n",
    "\n",
    "\n",
    "# helper method to build the tree\n",
    "def build_tree(list_numbers):\n",
    "    # ye call karega addData method ko\n",
    "    pass"
   ]
  }
 ],
 "metadata": {
  "kernelspec": {
   "display_name": "Python 3",
   "language": "python",
   "name": "python3"
  },
  "language_info": {
   "codemirror_mode": {
    "name": "ipython",
    "version": 3
   },
   "file_extension": ".py",
   "mimetype": "text/x-python",
   "name": "python",
   "nbconvert_exporter": "python",
   "pygments_lexer": "ipython3",
   "version": "3.11.2"
  },
  "orig_nbformat": 4
 },
 "nbformat": 4,
 "nbformat_minor": 2
}
