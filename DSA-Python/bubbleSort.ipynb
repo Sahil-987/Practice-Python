{
 "cells": [
  {
   "cell_type": "code",
   "execution_count": 5,
   "metadata": {},
   "outputs": [],
   "source": [
    "given = [35,6,5,7,-1,3,12,-3,21,8,-10,-22]"
   ]
  },
  {
   "cell_type": "code",
   "execution_count": 6,
   "metadata": {},
   "outputs": [
    {
     "data": {
      "text/plain": [
       "[-22, -10, -3, -1, 3, 5, 6, 7, 8, 12, 21, 35]"
      ]
     },
     "execution_count": 6,
     "metadata": {},
     "output_type": "execute_result"
    }
   ],
   "source": [
    "## my version (not optimized)\n",
    "\n",
    "## cons\n",
    "## 1. after each iteration the highest numbers get in their correct places, which is last positions, but this algorithm\n",
    "## in every iteration compares last elements as well\n",
    "## 2. sometimes the given array gets sorted after few iterations but this algorithms keeps on runuing untils the size of the array,\n",
    "## this can be avoided by writing a if condition, when no swapping takes place in any particular iteration\n",
    "## immediately stop the algorithm, it means the array is sorted\n",
    "\n",
    "size = len(given)\n",
    "for _ in range(size):\n",
    "    for i in range(size-1):\n",
    "        if given[i+1] < given[i]:\n",
    "            given[i],given[i+1] = given[i+1],given[i]\n",
    "given"
   ]
  },
  {
   "cell_type": "code",
   "execution_count": null,
   "metadata": {},
   "outputs": [],
   "source": []
  }
 ],
 "metadata": {
  "kernelspec": {
   "display_name": "Python 3",
   "language": "python",
   "name": "python3"
  },
  "language_info": {
   "codemirror_mode": {
    "name": "ipython",
    "version": 3
   },
   "file_extension": ".py",
   "mimetype": "text/x-python",
   "name": "python",
   "nbconvert_exporter": "python",
   "pygments_lexer": "ipython3",
   "version": "3.11.2"
  },
  "orig_nbformat": 4
 },
 "nbformat": 4,
 "nbformat_minor": 2
}
