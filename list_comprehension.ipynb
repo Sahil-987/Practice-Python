{
 "cells": [
  {
   "cell_type": "code",
   "execution_count": 1,
   "metadata": {},
   "outputs": [
    {
     "data": {
      "text/plain": [
       "['Positive', 'Positive', 'Positive']"
      ]
     },
     "execution_count": 1,
     "metadata": {},
     "output_type": "execute_result"
    }
   ],
   "source": [
    "# Using if only --> always on the right side of for loop\n",
    "\n",
    "numbers = [-5, 10, -3, 8, 0, -2, 7]\n",
    "categories = [\"Positive\" for x in numbers if x > 0]\n",
    "categories"
   ]
  },
  {
   "cell_type": "code",
   "execution_count": 2,
   "metadata": {},
   "outputs": [
    {
     "ename": "SyntaxError",
     "evalue": "invalid syntax (1577030943.py, line 4)",
     "output_type": "error",
     "traceback": [
      "\u001b[1;36m  Cell \u001b[1;32mIn[2], line 4\u001b[1;36m\u001b[0m\n\u001b[1;33m    categories = [\"Positive\" for x in numbers if x > 0 else \"Negative\"]\u001b[0m\n\u001b[1;37m                                                       ^\u001b[0m\n\u001b[1;31mSyntaxError\u001b[0m\u001b[1;31m:\u001b[0m invalid syntax\n"
     ]
    }
   ],
   "source": [
    "# Using if only --> don not use else on right \n",
    "\n",
    "numbers = [-5, 10, -3, 8, 0, -2, 7]\n",
    "categories = [\"Positive\" for x in numbers if x > 0 else \"Negative\"]\n",
    "categories"
   ]
  },
  {
   "cell_type": "markdown",
   "metadata": {},
   "source": [
    "## Using if-else in list comprehension"
   ]
  },
  {
   "cell_type": "code",
   "execution_count": 4,
   "metadata": {},
   "outputs": [
    {
     "data": {
      "text/plain": [
       "['Negative',\n",
       " 'Positive',\n",
       " 'Negative',\n",
       " 'Positive',\n",
       " 'Negative',\n",
       " 'Negative',\n",
       " 'Positive']"
      ]
     },
     "execution_count": 4,
     "metadata": {},
     "output_type": "execute_result"
    }
   ],
   "source": [
    "# Using if-else--> left of for loop\n",
    "numbers = [-5, 10, -3, 8, 0, -2, 7]\n",
    "categories = [\"Positive\" if x > 0 else \"Negative\" for x in numbers]\n",
    "categories"
   ]
  },
  {
   "cell_type": "code",
   "execution_count": null,
   "metadata": {},
   "outputs": [],
   "source": []
  },
  {
   "cell_type": "markdown",
   "metadata": {},
   "source": [
    "## Using if and if-else in list comprehension"
   ]
  },
  {
   "cell_type": "code",
   "execution_count": 5,
   "metadata": {},
   "outputs": [
    {
     "data": {
      "text/plain": [
       "['Positive', 'Positive', 'Negative', 'Negative']"
      ]
     },
     "execution_count": 5,
     "metadata": {},
     "output_type": "execute_result"
    }
   ],
   "source": [
    "# Using if and if-else--> if should be right of for loop\n",
    "# if-else should be left of the for loop\n",
    "\n",
    "\n",
    "numbers = [-5, 10, -3, 8, 0, -2, 7]\n",
    "categories = [\"Positive\" if x > 0 else \"Negative\" for x in numbers if x%2 == 0] # remove odd numbers\n",
    "categories"
   ]
  },
  {
   "cell_type": "code",
   "execution_count": null,
   "metadata": {},
   "outputs": [],
   "source": []
  },
  {
   "cell_type": "code",
   "execution_count": null,
   "metadata": {},
   "outputs": [],
   "source": []
  },
  {
   "cell_type": "markdown",
   "metadata": {},
   "source": [
    "## Using if, else - if, else"
   ]
  },
  {
   "cell_type": "code",
   "execution_count": 1,
   "metadata": {},
   "outputs": [
    {
     "name": "stdout",
     "output_type": "stream",
     "text": [
      "['negative', 'positive', 'negative', 'positive', 'zero', 'negative', 'positive']\n"
     ]
    }
   ],
   "source": [
    "# Example: Categorizing numbers as positive, negative, or zero using nested ternary if-else\n",
    "numbers = [-5, 10, -3, 8, 0, -2, 7]\n",
    "categories = ['positive' if x > 0 else 'negative' if x < 0 else 'zero' for x in numbers]\n",
    "print(categories)  # Output: ['negative', 'positive', 'negative', 'positive', 'zero', 'negative', 'positive']"
   ]
  }
 ],
 "metadata": {
  "kernelspec": {
   "display_name": "Python 3 (ipykernel)",
   "language": "python",
   "name": "python3"
  },
  "language_info": {
   "codemirror_mode": {
    "name": "ipython",
    "version": 3
   },
   "file_extension": ".py",
   "mimetype": "text/x-python",
   "name": "python",
   "nbconvert_exporter": "python",
   "pygments_lexer": "ipython3",
   "version": "3.11.2"
  }
 },
 "nbformat": 4,
 "nbformat_minor": 2
}
