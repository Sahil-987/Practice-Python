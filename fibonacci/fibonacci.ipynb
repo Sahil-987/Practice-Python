{
 "cells": [
  {
   "cell_type": "code",
   "execution_count": 7,
   "metadata": {},
   "outputs": [],
   "source": [
    "## Fibonacci \n",
    "\n",
    "# source : GFG\n",
    "# The Fibonacci numbers are the numbers in the following integer sequence.\n",
    "# 0, 1, 1, 2, 3, 5, 8, 13, 21, 34, 55, 89, 144, ……..\n",
    "\n",
    "# Note-1:\n",
    "# Fibonacci series \n",
    "#  - starts with zero\n",
    "#  - no negative number\n",
    "\n",
    "\n",
    "\n",
    "# Note-2 : \n",
    "# using recursion approach\n",
    "# fib(1) it means 1st term of the fibonacci, it will return 1 (look into fibonacci series ignore 0 start counting from 1, the first term will be 1)\n",
    "# fib(2) it means 2nd term of the fibonacci, it will return 1 (look into fibonacci series ignore 0 start counting from 1, the second term will be 1)\n",
    "# fib(3) it means 3rd term of the fibonacci, it will return 2 (look into fibonacci series ignore 0 start counting from 1, the third term will be 2)\n",
    "# fib(4) it means 4th term of the fibonacci, it will return 3 (look into fibonacci series ignore 0 start counting from 1, the fourth term will be 3)\n",
    "# fib(5) it means 5th term of the fibonacci, it will return 5 (look into fibonacci series ignore 0 start counting from 1, the fifth term will be 5)\n"
   ]
  },
  {
   "attachments": {},
   "cell_type": "markdown",
   "metadata": {},
   "source": [
    "### Types of Questions\n",
    "1. nth term of a fibonacci (Recursion, Iteration) | ref : Code with Harry - yt\n",
    "2. first n terms of a fibonacci (Recursion, Iteration)\n",
    "3. Generate Infinte fibonacci using Generator | ref : 20 most asker Python Interview Qustn, Nitman Talks - Yt"
   ]
  },
  {
   "cell_type": "code",
   "execution_count": null,
   "metadata": {},
   "outputs": [],
   "source": []
  },
  {
   "cell_type": "code",
   "execution_count": null,
   "metadata": {},
   "outputs": [],
   "source": []
  },
  {
   "cell_type": "markdown",
   "metadata": {},
   "source": [
    "### nth term of a fibonacci | recursion"
   ]
  },
  {
   "cell_type": "code",
   "execution_count": 1,
   "metadata": {},
   "outputs": [
    {
     "name": "stdout",
     "output_type": "stream",
     "text": [
      "Value of 10th term of the fibonacci = 34\n",
      "*****VERIFY******\n",
      "postion : 1\n",
      "index : 0\n",
      "value : 0\n",
      "\n",
      "postion : 2\n",
      "index : 1\n",
      "value : 1\n",
      "\n",
      "postion : 3\n",
      "index : 2\n",
      "value : 1\n",
      "\n",
      "postion : 4\n",
      "index : 3\n",
      "value : 2\n",
      "\n",
      "postion : 5\n",
      "index : 4\n",
      "value : 3\n",
      "\n",
      "postion : 6\n",
      "index : 5\n",
      "value : 5\n",
      "\n",
      "postion : 7\n",
      "index : 6\n",
      "value : 8\n",
      "\n",
      "postion : 8\n",
      "index : 7\n",
      "value : 13\n",
      "\n",
      "postion : 9\n",
      "index : 8\n",
      "value : 21\n",
      "\n",
      "postion : 10\n",
      "index : 9\n",
      "value : 34\n",
      "\n",
      "postion : 11\n",
      "index : 10\n",
      "value : 55\n",
      "\n"
     ]
    }
   ],
   "source": [
    "def fib(n):\n",
    "    if n < 0:\n",
    "        print(\"proper input\")\n",
    "\n",
    "    elif n == 0 or n == 1:\n",
    "        return n\n",
    "    \n",
    "    else:\n",
    "        return fib(n-1) + fib(n-2)\n",
    "    \n",
    "\n",
    "\n",
    "nth_term  = 10\n",
    "print(f\"Value of {nth_term}th term of the fibonacci = {fib(nth_term-1)}\") # trick : input = nth_term / fib(input-1)\n",
    "\n",
    "\n",
    "### verify\n",
    "print(\"*****VERIFY******\")\n",
    "fibonacci_series = [0,1,1,2,3,5,8,13,21,34,55]\n",
    "for index,value in enumerate(fibonacci_series):\n",
    "    print(f\"postion : {index+1}\")\n",
    "    print(f\"index : {index}\")\n",
    "    print(f\"value : {value}\")\n",
    "    print()\n"
   ]
  },
  {
   "cell_type": "markdown",
   "metadata": {},
   "source": [
    "### nth term of a fibonacci | iteration"
   ]
  },
  {
   "cell_type": "code",
   "execution_count": null,
   "metadata": {},
   "outputs": [],
   "source": []
  },
  {
   "cell_type": "code",
   "execution_count": null,
   "metadata": {},
   "outputs": [],
   "source": []
  },
  {
   "cell_type": "code",
   "execution_count": null,
   "metadata": {},
   "outputs": [],
   "source": []
  },
  {
   "cell_type": "markdown",
   "metadata": {},
   "source": [
    "### first n terms of a fibonacci using recursion"
   ]
  },
  {
   "cell_type": "code",
   "execution_count": 6,
   "metadata": {},
   "outputs": [
    {
     "name": "stdout",
     "output_type": "stream",
     "text": [
      "0\n",
      "1\n",
      "1\n",
      "2\n",
      "3\n",
      "5\n",
      "8\n",
      "13\n",
      "21\n",
      "34\n"
     ]
    }
   ],
   "source": [
    "def fib(n):\n",
    "    if n < 0 :\n",
    "        return \"undefined\"\n",
    "\n",
    "    elif n== 0  or n==1:\n",
    "        return n\n",
    "    \n",
    "    else:\n",
    "        return fib(n-1) + fib(n-2)\n",
    "\n",
    "\n",
    "nth_term = 10\n",
    "\n",
    "for i in range(nth_term):\n",
    "    print(fib(i))\n",
    "\n"
   ]
  },
  {
   "cell_type": "code",
   "execution_count": null,
   "metadata": {},
   "outputs": [],
   "source": []
  },
  {
   "cell_type": "code",
   "execution_count": null,
   "metadata": {},
   "outputs": [],
   "source": []
  },
  {
   "attachments": {},
   "cell_type": "markdown",
   "metadata": {},
   "source": [
    "### first n terms of Fibonacci | Iteration\n",
    "#### (ref : https://www.programiz.com/python-programming/examples/fibonacci-sequence)"
   ]
  },
  {
   "cell_type": "code",
   "execution_count": 2,
   "metadata": {},
   "outputs": [
    {
     "name": "stdout",
     "output_type": "stream",
     "text": [
      "Fibonacci sequence:\n",
      "0\n",
      "1\n",
      "1\n",
      "2\n",
      "3\n",
      "5\n",
      "8\n",
      "13\n",
      "21\n",
      "34\n"
     ]
    }
   ],
   "source": [
    "# Program to display the Fibonacci sequence up to nth term\n",
    "\n",
    "nterms = int(input(\"How many terms? \"))\n",
    "\n",
    "# first two terms\n",
    "n1, n2 = 0, 1\n",
    "count = 0\n",
    "\n",
    "# check if the number of terms is valid\n",
    "if nterms <= 0:\n",
    "   print(\"Please enter a positive integer\")\n",
    "# if there is only one term, return n1\n",
    "elif nterms == 1:\n",
    "   print(\"Fibonacci sequence upto\",nterms,\":\")\n",
    "   print(n1)\n",
    "# generate fibonacci sequence\n",
    "else:\n",
    "   print(\"Fibonacci sequence:\")\n",
    "   while count < nterms:\n",
    "       print(n1)\n",
    "       nth = n1 + n2\n",
    "       # update values\n",
    "       n1 = n2\n",
    "       n2 = nth\n",
    "       count += 1"
   ]
  },
  {
   "cell_type": "code",
   "execution_count": null,
   "metadata": {},
   "outputs": [],
   "source": []
  },
  {
   "cell_type": "code",
   "execution_count": null,
   "metadata": {},
   "outputs": [],
   "source": []
  },
  {
   "cell_type": "code",
   "execution_count": null,
   "metadata": {},
   "outputs": [],
   "source": []
  },
  {
   "attachments": {},
   "cell_type": "markdown",
   "metadata": {},
   "source": [
    "## Generate an Infinite Fibonacci Series using generator"
   ]
  },
  {
   "cell_type": "code",
   "execution_count": 40,
   "metadata": {},
   "outputs": [],
   "source": [
    "\n",
    "\n",
    "\n",
    "def infFibonacci():\n",
    "    a,b = 0,1\n",
    "    while True:\n",
    "        c = a+b\n",
    "        yield a\n",
    "        a,b = b,c\n",
    "\n",
    "\n",
    "output = infFibonacci()"
   ]
  },
  {
   "cell_type": "code",
   "execution_count": 41,
   "metadata": {},
   "outputs": [
    {
     "name": "stdout",
     "output_type": "stream",
     "text": [
      "0\n",
      "1\n",
      "1\n",
      "2\n",
      "3\n",
      "5\n",
      "8\n",
      "13\n",
      "21\n",
      "34\n",
      "55\n",
      "89\n",
      "144\n",
      "233\n",
      "377\n",
      "610\n",
      "987\n",
      "1597\n",
      "2584\n",
      "4181\n",
      "6765\n",
      "10946\n",
      "17711\n",
      "28657\n",
      "46368\n",
      "75025\n",
      "121393\n",
      "196418\n",
      "317811\n",
      "514229\n",
      "832040\n",
      "1346269\n",
      "2178309\n",
      "3524578\n",
      "5702887\n",
      "9227465\n",
      "14930352\n",
      "24157817\n",
      "39088169\n",
      "63245986\n",
      "102334155\n",
      "165580141\n",
      "267914296\n",
      "433494437\n",
      "701408733\n",
      "1134903170\n",
      "1836311903\n",
      "2971215073\n",
      "4807526976\n",
      "7778742049\n",
      "12586269025\n",
      "20365011074\n",
      "32951280099\n",
      "53316291173\n",
      "86267571272\n",
      "139583862445\n",
      "225851433717\n",
      "365435296162\n",
      "591286729879\n",
      "956722026041\n",
      "1548008755920\n",
      "2504730781961\n",
      "4052739537881\n",
      "6557470319842\n",
      "10610209857723\n",
      "17167680177565\n",
      "27777890035288\n",
      "44945570212853\n",
      "72723460248141\n",
      "117669030460994\n",
      "190392490709135\n",
      "308061521170129\n",
      "498454011879264\n",
      "806515533049393\n",
      "1304969544928657\n",
      "2111485077978050\n",
      "3416454622906707\n",
      "5527939700884757\n",
      "8944394323791464\n",
      "14472334024676221\n",
      "23416728348467685\n",
      "37889062373143906\n",
      "61305790721611591\n",
      "99194853094755497\n",
      "160500643816367088\n",
      "259695496911122585\n",
      "420196140727489673\n",
      "679891637638612258\n",
      "1100087778366101931\n",
      "1779979416004714189\n",
      "2880067194370816120\n",
      "4660046610375530309\n",
      "7540113804746346429\n",
      "12200160415121876738\n",
      "19740274219868223167\n",
      "31940434634990099905\n",
      "51680708854858323072\n",
      "83621143489848422977\n",
      "135301852344706746049\n",
      "218922995834555169026\n"
     ]
    }
   ],
   "source": [
    "for _ in range(0,100):\n",
    "    print(next(output))"
   ]
  },
  {
   "cell_type": "code",
   "execution_count": null,
   "metadata": {},
   "outputs": [],
   "source": []
  },
  {
   "cell_type": "code",
   "execution_count": null,
   "metadata": {},
   "outputs": [],
   "source": []
  },
  {
   "cell_type": "code",
   "execution_count": null,
   "metadata": {},
   "outputs": [],
   "source": []
  },
  {
   "cell_type": "code",
   "execution_count": null,
   "metadata": {},
   "outputs": [],
   "source": []
  },
  {
   "cell_type": "markdown",
   "metadata": {},
   "source": [
    "### Rough | nth term of fibonacci, recursion, OOPs"
   ]
  },
  {
   "cell_type": "code",
   "execution_count": 7,
   "metadata": {},
   "outputs": [
    {
     "name": "stdout",
     "output_type": "stream",
     "text": [
      "5\n"
     ]
    }
   ],
   "source": [
    "# method - 1 | no constructor\n",
    "class Fibonacci_series:\n",
    "\n",
    "    def fib(self,n):\n",
    "        if n==0 or n==1:\n",
    "            return n\n",
    "        else:\n",
    "            return self.fib(n-1) + self.fib(n-2)\n",
    "\n",
    "\n",
    "if __name__ == \"__main__\":\n",
    "    x= Fibonacci_series()\n",
    "    print(x.fib(6-1))\n"
   ]
  },
  {
   "cell_type": "code",
   "execution_count": 13,
   "metadata": {},
   "outputs": [
    {
     "ename": "TypeError",
     "evalue": "Fibonacci_series.fib() takes 1 positional argument but 2 were given",
     "output_type": "error",
     "traceback": [
      "\u001b[1;31m---------------------------------------------------------------------------\u001b[0m",
      "\u001b[1;31mTypeError\u001b[0m                                 Traceback (most recent call last)",
      "Cell \u001b[1;32mIn[13], line 16\u001b[0m\n\u001b[0;32m     14\u001b[0m \u001b[39mif\u001b[39;00m \u001b[39m__name__\u001b[39m \u001b[39m==\u001b[39m \u001b[39m\"\u001b[39m\u001b[39m__main__\u001b[39m\u001b[39m\"\u001b[39m:\n\u001b[0;32m     15\u001b[0m     x\u001b[39m=\u001b[39m Fibonacci_series(\u001b[39m5\u001b[39m)\n\u001b[1;32m---> 16\u001b[0m     \u001b[39mprint\u001b[39m(x\u001b[39m.\u001b[39;49mfib())\n",
      "Cell \u001b[1;32mIn[13], line 11\u001b[0m, in \u001b[0;36mFibonacci_series.fib\u001b[1;34m(self)\u001b[0m\n\u001b[0;32m      9\u001b[0m     \u001b[39mreturn\u001b[39;00m \u001b[39mself\u001b[39m\u001b[39m.\u001b[39mn\n\u001b[0;32m     10\u001b[0m \u001b[39melse\u001b[39;00m:\n\u001b[1;32m---> 11\u001b[0m     \u001b[39mreturn\u001b[39;00m \u001b[39mself\u001b[39;49m\u001b[39m.\u001b[39;49mfib(\u001b[39mself\u001b[39;49m\u001b[39m.\u001b[39;49mn\u001b[39m-\u001b[39;49m\u001b[39m1\u001b[39;49m) \u001b[39m+\u001b[39m \u001b[39mself\u001b[39m\u001b[39m.\u001b[39mfib(\u001b[39mself\u001b[39m\u001b[39m.\u001b[39mn\u001b[39m-\u001b[39m\u001b[39m2\u001b[39m)\n",
      "\u001b[1;31mTypeError\u001b[0m: Fibonacci_series.fib() takes 1 positional argument but 2 were given"
     ]
    }
   ],
   "source": [
    "# method - 2 | with constructor\n",
    "class Fibonacci_series:\n",
    "\n",
    "    def __init__(self, n):\n",
    "        self.n = n\n",
    "\n",
    "    def fib(self):\n",
    "        if self.n==0 or self.n==1:\n",
    "            return self.n\n",
    "        else:\n",
    "            return self.fib(self.n-1) + self.fib(self.n-2)\n",
    "\n",
    "\n",
    "if __name__ == \"__main__\":\n",
    "    x= Fibonacci_series(5)\n",
    "    print(x.fib())"
   ]
  },
  {
   "cell_type": "code",
   "execution_count": 6,
   "metadata": {},
   "outputs": [
    {
     "name": "stdout",
     "output_type": "stream",
     "text": [
      "4th term is 3\n",
      "first 4 term(s)\n",
      "0\n",
      "1\n",
      "1\n",
      "2\n"
     ]
    }
   ],
   "source": [
    "class Fib:\n",
    "\n",
    "    def __init__(self,n):\n",
    "        self.n = n\n",
    "\n",
    "    def nth_term(self, n = None):\n",
    "        if n is None:\n",
    "            n = self.n\n",
    "\n",
    "        if n == 0 or n == 1:\n",
    "            return n\n",
    "        \n",
    "        else:\n",
    "            return self.nth_term(n-1) + self.nth_term(n-2)\n",
    "        \n",
    "\n",
    "    def first_n_terms(self, n = None):\n",
    "        if n is None:\n",
    "            n = self.n\n",
    "\n",
    "        print(f\"first {n} term(s)\")\n",
    "        for i in range(0,n):\n",
    "            print(self.nth_term(i))\n",
    "\n",
    "\n",
    "if __name__ == \"__main__\":\n",
    "\n",
    "    x = Fib(int(input(\"enter the number\"))-1)\n",
    "    print(f\"{x.n}th term is {x.nth_term()}\")\n",
    "    x.first_n_terms()"
   ]
  },
  {
   "cell_type": "code",
   "execution_count": null,
   "metadata": {},
   "outputs": [],
   "source": []
  }
 ],
 "metadata": {
  "kernelspec": {
   "display_name": "Python 3",
   "language": "python",
   "name": "python3"
  },
  "language_info": {
   "codemirror_mode": {
    "name": "ipython",
    "version": 3
   },
   "file_extension": ".py",
   "mimetype": "text/x-python",
   "name": "python",
   "nbconvert_exporter": "python",
   "pygments_lexer": "ipython3",
   "version": "3.11.2"
  },
  "orig_nbformat": 4
 },
 "nbformat": 4,
 "nbformat_minor": 2
}
