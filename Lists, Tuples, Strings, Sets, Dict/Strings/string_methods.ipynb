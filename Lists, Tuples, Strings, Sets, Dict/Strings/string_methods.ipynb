{
 "cells": [
  {
   "cell_type": "code",
   "execution_count": null,
   "metadata": {},
   "outputs": [],
   "source": [
    "## no remvoe method in string only replace method\n",
    "\n",
    "\"\"\"\n",
    "ref : Chat GPT\n",
    "\n",
    "No, there is no built-in string method named `remove` in Python. The `remove` method is typically associated with lists, where it is used to remove the first occurrence of a specific value from the list. However, it is not a method available for strings.\n",
    "\n",
    "For string manipulation, you can use methods like `str.replace()` to replace specific substrings with other values or simply create a new string by slicing and concatenating the original string as needed.\n",
    "\n",
    "\n",
    "\"\"\""
   ]
  }
 ],
 "metadata": {
  "language_info": {
   "name": "python"
  }
 },
 "nbformat": 4,
 "nbformat_minor": 2
}
