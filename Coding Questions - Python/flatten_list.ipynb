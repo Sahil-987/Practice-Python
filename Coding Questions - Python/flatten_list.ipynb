{
 "cells": [
  {
   "cell_type": "code",
   "execution_count": 1,
   "metadata": {},
   "outputs": [
    {
     "name": "stdout",
     "output_type": "stream",
     "text": [
      "[1, 2, 3, 4, 5, 6]\n"
     ]
    }
   ],
   "source": [
    "## krish Naik\n",
    "\n",
    "\n",
    "def flatten(lst):\n",
    "    result = []\n",
    "    for i in lst:\n",
    "        if isinstance(i, list):\n",
    "            result.extend(flatten(i))\n",
    "        else:\n",
    "            result.append(i)\n",
    "    return result\n",
    "\n",
    "nested_list = [1, [2, 3, [4, 5]], 6]\n",
    "print(flatten(nested_list))  # Output: [1, 2, 3, 4, 5, 6]\n"
   ]
  },
  {
   "cell_type": "code",
   "execution_count": null,
   "metadata": {},
   "outputs": [],
   "source": []
  },
  {
   "cell_type": "code",
   "execution_count": null,
   "metadata": {},
   "outputs": [],
   "source": []
  },
  {
   "cell_type": "code",
   "execution_count": 6,
   "metadata": {},
   "outputs": [],
   "source": [
    "## My method\n",
    "\n",
    "\n",
    "\n",
    "def flat_list(input_list):\n",
    "    final_ans = []  # Initialize the list to store the flattened elements\n",
    "    for i in input_list:\n",
    "        if type(i) == list:\n",
    "            final_ans.extend(flat_list(i))  # Recursively call flat_list for nested lists\n",
    "        else:\n",
    "            final_ans.append(i)\n",
    "    return final_ans"
   ]
  },
  {
   "cell_type": "code",
   "execution_count": 7,
   "metadata": {},
   "outputs": [
    {
     "name": "stdout",
     "output_type": "stream",
     "text": [
      "[1, 2, 3, 4, 5, 6, 7, 8, 2, 1]\n",
      "[1, 2, [3, 4], 5, 6]\n"
     ]
    }
   ],
   "source": [
    "## My method with slight variation\n",
    "\n",
    "\n",
    "\n",
    "def flat_list_mod(input_list):\n",
    "    final_ans = []  # Initialize the list to store the flattened elements\n",
    "    for i in input_list:\n",
    "        if type(i) == list:\n",
    "            final_ans.extend(i)  # Not call flat_list for nested lists\n",
    "        else:\n",
    "            final_ans.append(i)\n",
    "    return final_ans\n",
    "\n",
    "\n",
    "## but this method does not work for list of list case\n",
    "\n",
    "check = [1, [2, 3, 4], 5, [6], 7, [8, 2, 1]]\n",
    "check2 = [1, [2, [3, 4], 5], 6]\n",
    "print(flat_list_mod(check))\n",
    "print(flat_list_mod(check2)) # not worked"
   ]
  },
  {
   "cell_type": "code",
   "execution_count": null,
   "metadata": {},
   "outputs": [],
   "source": []
  },
  {
   "cell_type": "code",
   "execution_count": null,
   "metadata": {},
   "outputs": [],
   "source": []
  },
  {
   "cell_type": "code",
   "execution_count": null,
   "metadata": {},
   "outputs": [],
   "source": []
  },
  {
   "cell_type": "markdown",
   "metadata": {},
   "source": [
    "## ChatGPT response : Comparison of my mehtod vs Krish naik-Yt"
   ]
  },
  {
   "cell_type": "code",
   "execution_count": 5,
   "metadata": {},
   "outputs": [
    {
     "data": {
      "text/plain": [
       "' '"
      ]
     },
     "execution_count": 5,
     "metadata": {},
     "output_type": "execute_result"
    }
   ],
   "source": [
    "## ChatGPT response : Comparison of my mehtod vs Krish naik-Yt\n",
    "\n",
    "\n",
    "\"\"\"\n",
    "which code is better to flatten the list ?\n",
    "\n",
    "## Method-1\n",
    "\n",
    "def flatten(lst):\n",
    "    result = []\n",
    "    for i in lst:\n",
    "        if isinstance(i, list):\n",
    "            result.extend(flatten(i))\n",
    "        else:\n",
    "            result.append(i)\n",
    "    return result\n",
    "\n",
    "nested_list = [1, [2, 3, [4, 5]], 6]\n",
    "print(flatten(nested_list))\n",
    "\n",
    "\n",
    "## Method-2\n",
    "\n",
    "def flat_list(input_list):\n",
    "    final_ans = []  # Initialize the list to store the flattened elements\n",
    "    for i in input_list:\n",
    "        if type(i) == list:\n",
    "            final_ans.extend(flat_list(i))  # Recursively call flat_list for nested lists\n",
    "        else:\n",
    "            final_ans.append(i)\n",
    "    return final_ans\n",
    "\n",
    "    \n",
    "\n",
    "    \n",
    "    \n",
    "Response :\n",
    "\n",
    "\n",
    "    \n",
    "\n",
    "\n",
    "Both Method-1 and Method-2 achieve the same goal of flattening a nested list, and they use similar recursive approaches. However, there is a minor difference in the way they check the type of elements. Method-1 uses `isinstance(i, list)` to check if an element is a list, while Method-2 uses `type(i) == list`.\n",
    "\n",
    "Method-1 using `isinstance(i, list)` is generally considered more robust and flexible for type checking because it not only checks if an object is of a specific type (in this case, a list) but also allows for checking if the object is an instance of a subclass of that type. This means that Method-1 would work with objects that inherit from the `list` class as well.\n",
    "\n",
    "Method-2 using `type(i) == list` is more strict, and it only checks if an element is an instance of the `list` class, excluding any subclasses. While this may be sufficient for many cases, it's less flexible and might not work as expected if you have custom classes derived from `list`.\n",
    "\n",
    "So, in terms of code robustness and flexibility, Method-1 (using `isinstance`) is generally preferred. It's a good practice to use `isinstance` when you want to check the type of an object, especially when your code may deal with inheritance and subclasses.\n",
    "\n",
    "\n",
    "\n",
    "\n",
    "\n",
    "\"\"\""
   ]
  },
  {
   "cell_type": "code",
   "execution_count": null,
   "metadata": {},
   "outputs": [],
   "source": []
  }
 ],
 "metadata": {
  "kernelspec": {
   "display_name": "Python 3",
   "language": "python",
   "name": "python3"
  },
  "language_info": {
   "codemirror_mode": {
    "name": "ipython",
    "version": 3
   },
   "file_extension": ".py",
   "mimetype": "text/x-python",
   "name": "python",
   "nbconvert_exporter": "python",
   "pygments_lexer": "ipython3",
   "version": "3.11.2"
  }
 },
 "nbformat": 4,
 "nbformat_minor": 2
}
