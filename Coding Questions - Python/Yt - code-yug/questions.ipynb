{
 "cells": [
  {
   "cell_type": "code",
   "execution_count": 1,
   "metadata": {},
   "outputs": [
    {
     "name": "stdout",
     "output_type": "stream",
     "text": [
      "count_dict = {'cat': 4, 'batman': 1, 'latt': 3, 'matter': 2}\n",
      "N/A\n"
     ]
    }
   ],
   "source": [
    "# wipro campus placement\n",
    "\n",
    "check = \"cat batman latt matter cat matter cat cat latt latt\"\n",
    "enter_num = int(input(\"enter num\"))\n",
    "count_dict = {}\n",
    "\n",
    "for i in check.split():\n",
    "    count_dict[i] = count_dict.get(i,0) + 1\n",
    "print(f\"count_dict = {count_dict}\")\n",
    "\n",
    "not_exist = True\n",
    "for i in count_dict:\n",
    "    if count_dict[i] >= enter_num:\n",
    "        print(i)\n",
    "        not_exist = False\n",
    "\n",
    "if not_exist:\n",
    "    print(\"N/A\")\n"
   ]
  },
  {
   "cell_type": "code",
   "execution_count": null,
   "metadata": {},
   "outputs": [],
   "source": []
  }
 ],
 "metadata": {
  "kernelspec": {
   "display_name": "Python 3",
   "language": "python",
   "name": "python3"
  },
  "language_info": {
   "codemirror_mode": {
    "name": "ipython",
    "version": 3
   },
   "file_extension": ".py",
   "mimetype": "text/x-python",
   "name": "python",
   "nbconvert_exporter": "python",
   "pygments_lexer": "ipython3",
   "version": "3.11.2"
  },
  "orig_nbformat": 4
 },
 "nbformat": 4,
 "nbformat_minor": 2
}
