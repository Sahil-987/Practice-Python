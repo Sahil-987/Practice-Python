{
 "cells": [
  {
   "cell_type": "code",
   "execution_count": 2,
   "metadata": {},
   "outputs": [
    {
     "name": "stdout",
     "output_type": "stream",
     "text": [
      ".\n"
     ]
    }
   ],
   "source": [
    "import os\n",
    "print(os.curdir)"
   ]
  },
  {
   "cell_type": "code",
   "execution_count": 3,
   "metadata": {},
   "outputs": [
    {
     "name": "stdout",
     "output_type": "stream",
     "text": [
      "Jobs - Interview\n",
      "Personal Projects\n",
      "Practice - Github\n",
      "Practice - NPMS\n",
      "Practice - Python\n",
      "Practice- Computer Vision\n",
      "Practice-SQL\n",
      "Time Series Analysis\n",
      "venv\n"
     ]
    }
   ],
   "source": [
    "import os\n",
    "for i in os.listdir(\"C:/Users/being/Dt Sci-Work/\"):\n",
    "    print(i)"
   ]
  },
  {
   "cell_type": "code",
   "execution_count": 4,
   "metadata": {},
   "outputs": [
    {
     "name": "stdout",
     "output_type": "stream",
     "text": [
      "data\n",
      "file-paths.ipynb\n",
      "rough.py\n",
      "weather_data.csv\n"
     ]
    }
   ],
   "source": [
    "import os\n",
    "for i in os.listdir(\"../file-paths/\"):\n",
    "    print(i)"
   ]
  },
  {
   "cell_type": "code",
   "execution_count": 5,
   "metadata": {},
   "outputs": [
    {
     "name": "stdout",
     "output_type": "stream",
     "text": [
      "file-organizer\n",
      "file-paths\n",
      "weather_data.csv\n",
      "zipfile\n"
     ]
    }
   ],
   "source": [
    "\"\"\"\n",
    "To move two directories levels up from the current directory in Python, you can use ../..\n",
    "Here's an example:\n",
    "\"\"\"\n",
    "\n",
    "\n",
    "import os\n",
    "for i in os.listdir(\"../../file-handling/\"):\n",
    "    print(i)"
   ]
  },
  {
   "cell_type": "code",
   "execution_count": 7,
   "metadata": {},
   "outputs": [
    {
     "name": "stdout",
     "output_type": "stream",
     "text": [
      ".git\n",
      ".gitignore\n",
      ".ipynb_checkpoints\n",
      "anagram.ipynb\n",
      "decorators\n",
      "DSA-Python\n",
      "factorial.py\n",
      "fibonacci\n",
      "file-handling\n",
      "find_nums_list.py\n",
      "for-while-else-loop.ipynb\n",
      "generatiors.ipynb\n",
      "list_comprehension.ipynb\n",
      "move_zeros.ipynb\n",
      "OOPs\n",
      "pattern\n",
      "prime_numbers.ipynb\n",
      "README.md\n",
      "rough.ipynb\n",
      "weather_data.csv\n"
     ]
    }
   ],
   "source": [
    "\"\"\"\n",
    "To move three directories levels up from the current directory in Python, you can use ../../../\n",
    "Here's an example:\n",
    "\n",
    "\n",
    "\"\"\"\n",
    "\n",
    "\n",
    "for i in os.listdir(\"../../../Practice - Python/\"):\n",
    "    print(i)"
   ]
  },
  {
   "cell_type": "code",
   "execution_count": null,
   "metadata": {},
   "outputs": [],
   "source": []
  },
  {
   "cell_type": "markdown",
   "metadata": {},
   "source": [
    "# ./ is useless"
   ]
  },
  {
   "cell_type": "code",
   "execution_count": 1,
   "metadata": {},
   "outputs": [],
   "source": [
    "import pandas as pd"
   ]
  },
  {
   "cell_type": "code",
   "execution_count": 3,
   "metadata": {},
   "outputs": [
    {
     "data": {
      "text/html": [
       "<div>\n",
       "<style scoped>\n",
       "    .dataframe tbody tr th:only-of-type {\n",
       "        vertical-align: middle;\n",
       "    }\n",
       "\n",
       "    .dataframe tbody tr th {\n",
       "        vertical-align: top;\n",
       "    }\n",
       "\n",
       "    .dataframe thead th {\n",
       "        text-align: right;\n",
       "    }\n",
       "</style>\n",
       "<table border=\"1\" class=\"dataframe\">\n",
       "  <thead>\n",
       "    <tr style=\"text-align: right;\">\n",
       "      <th></th>\n",
       "      <th>day</th>\n",
       "      <th>temperature</th>\n",
       "      <th>windspeed</th>\n",
       "      <th>event</th>\n",
       "    </tr>\n",
       "  </thead>\n",
       "  <tbody>\n",
       "    <tr>\n",
       "      <th>0</th>\n",
       "      <td>1/1/2017</td>\n",
       "      <td>32.0</td>\n",
       "      <td>6.0</td>\n",
       "      <td>Rain</td>\n",
       "    </tr>\n",
       "    <tr>\n",
       "      <th>1</th>\n",
       "      <td>1/4/2017</td>\n",
       "      <td>NaN</td>\n",
       "      <td>9.0</td>\n",
       "      <td>Sunny</td>\n",
       "    </tr>\n",
       "    <tr>\n",
       "      <th>2</th>\n",
       "      <td>1/5/2017</td>\n",
       "      <td>28.0</td>\n",
       "      <td>NaN</td>\n",
       "      <td>Snow</td>\n",
       "    </tr>\n",
       "    <tr>\n",
       "      <th>3</th>\n",
       "      <td>1/6/2017</td>\n",
       "      <td>NaN</td>\n",
       "      <td>7.0</td>\n",
       "      <td>NaN</td>\n",
       "    </tr>\n",
       "    <tr>\n",
       "      <th>4</th>\n",
       "      <td>1/7/2017</td>\n",
       "      <td>32.0</td>\n",
       "      <td>NaN</td>\n",
       "      <td>Rain</td>\n",
       "    </tr>\n",
       "  </tbody>\n",
       "</table>\n",
       "</div>"
      ],
      "text/plain": [
       "        day  temperature  windspeed  event\n",
       "0  1/1/2017         32.0        6.0   Rain\n",
       "1  1/4/2017          NaN        9.0  Sunny\n",
       "2  1/5/2017         28.0        NaN   Snow\n",
       "3  1/6/2017          NaN        7.0    NaN\n",
       "4  1/7/2017         32.0        NaN   Rain"
      ]
     },
     "execution_count": 3,
     "metadata": {},
     "output_type": "execute_result"
    }
   ],
   "source": [
    "pd.read_csv(\"./weather_data.csv\").head()"
   ]
  },
  {
   "cell_type": "code",
   "execution_count": 4,
   "metadata": {},
   "outputs": [
    {
     "data": {
      "text/html": [
       "<div>\n",
       "<style scoped>\n",
       "    .dataframe tbody tr th:only-of-type {\n",
       "        vertical-align: middle;\n",
       "    }\n",
       "\n",
       "    .dataframe tbody tr th {\n",
       "        vertical-align: top;\n",
       "    }\n",
       "\n",
       "    .dataframe thead th {\n",
       "        text-align: right;\n",
       "    }\n",
       "</style>\n",
       "<table border=\"1\" class=\"dataframe\">\n",
       "  <thead>\n",
       "    <tr style=\"text-align: right;\">\n",
       "      <th></th>\n",
       "      <th>day</th>\n",
       "      <th>temperature</th>\n",
       "      <th>windspeed</th>\n",
       "      <th>event</th>\n",
       "    </tr>\n",
       "  </thead>\n",
       "  <tbody>\n",
       "    <tr>\n",
       "      <th>0</th>\n",
       "      <td>1/1/2017</td>\n",
       "      <td>32.0</td>\n",
       "      <td>6.0</td>\n",
       "      <td>Rain</td>\n",
       "    </tr>\n",
       "    <tr>\n",
       "      <th>1</th>\n",
       "      <td>1/4/2017</td>\n",
       "      <td>NaN</td>\n",
       "      <td>9.0</td>\n",
       "      <td>Sunny</td>\n",
       "    </tr>\n",
       "    <tr>\n",
       "      <th>2</th>\n",
       "      <td>1/5/2017</td>\n",
       "      <td>28.0</td>\n",
       "      <td>NaN</td>\n",
       "      <td>Snow</td>\n",
       "    </tr>\n",
       "    <tr>\n",
       "      <th>3</th>\n",
       "      <td>1/6/2017</td>\n",
       "      <td>NaN</td>\n",
       "      <td>7.0</td>\n",
       "      <td>NaN</td>\n",
       "    </tr>\n",
       "    <tr>\n",
       "      <th>4</th>\n",
       "      <td>1/7/2017</td>\n",
       "      <td>32.0</td>\n",
       "      <td>NaN</td>\n",
       "      <td>Rain</td>\n",
       "    </tr>\n",
       "  </tbody>\n",
       "</table>\n",
       "</div>"
      ],
      "text/plain": [
       "        day  temperature  windspeed  event\n",
       "0  1/1/2017         32.0        6.0   Rain\n",
       "1  1/4/2017          NaN        9.0  Sunny\n",
       "2  1/5/2017         28.0        NaN   Snow\n",
       "3  1/6/2017          NaN        7.0    NaN\n",
       "4  1/7/2017         32.0        NaN   Rain"
      ]
     },
     "execution_count": 4,
     "metadata": {},
     "output_type": "execute_result"
    }
   ],
   "source": [
    "pd.read_csv(\"weather_data.csv\").head()"
   ]
  },
  {
   "cell_type": "code",
   "execution_count": 7,
   "metadata": {},
   "outputs": [
    {
     "name": "stdout",
     "output_type": "stream",
     "text": [
      "        day  temperature  windspeed  event\n",
      "0  1/1/2017         32.0        6.0   Rain\n",
      "1  1/4/2017          NaN        9.0  Sunny\n",
      "2  1/5/2017         28.0        NaN   Snow\n",
      "3  1/6/2017          NaN        7.0    NaN\n",
      "4  1/7/2017         32.0        NaN   Rain\n",
      "******************\n",
      "        day  temperature  windspeed  event\n",
      "0  1/1/2017         32.0        6.0   Rain\n",
      "1  1/4/2017          NaN        9.0  Sunny\n",
      "2  1/5/2017         28.0        NaN   Snow\n",
      "3  1/6/2017          NaN        7.0    NaN\n",
      "4  1/7/2017         32.0        NaN   Rain\n"
     ]
    }
   ],
   "source": [
    "# both are same\n",
    "\n",
    "print(pd.read_csv(\"data/weather_data.csv\").head())\n",
    "print(\"******************\")\n",
    "print(pd.read_csv(\"./data/weather_data.csv\").head())"
   ]
  },
  {
   "cell_type": "code",
   "execution_count": 11,
   "metadata": {},
   "outputs": [
    {
     "name": "stdout",
     "output_type": "stream",
     "text": [
      "        day  temperature  windspeed  event\n",
      "0  1/1/2017         32.0        6.0   Rain\n",
      "1  1/4/2017          NaN        9.0  Sunny\n",
      "2  1/5/2017         28.0        NaN   Snow\n",
      "3  1/6/2017          NaN        7.0    NaN\n",
      "4  1/7/2017         32.0        NaN   Rain\n",
      "        day  temperature  windspeed  event\n",
      "0  1/1/2017         32.0        6.0   Rain\n",
      "1  1/4/2017          NaN        9.0  Sunny\n",
      "2  1/5/2017         28.0        NaN   Snow\n",
      "3  1/6/2017          NaN        7.0    NaN\n",
      "4  1/7/2017         32.0        NaN   Rain\n"
     ]
    }
   ],
   "source": [
    "# one - directory up\n",
    "\n",
    "print(pd.read_csv(\"../weather_data.csv\").head())"
   ]
  },
  {
   "cell_type": "code",
   "execution_count": 12,
   "metadata": {},
   "outputs": [
    {
     "name": "stdout",
     "output_type": "stream",
     "text": [
      "        day  temperature  windspeed  event\n",
      "0  1/1/2017         32.0        6.0   Rain\n",
      "1  1/4/2017          NaN        9.0  Sunny\n",
      "2  1/5/2017         28.0        NaN   Snow\n",
      "3  1/6/2017          NaN        7.0    NaN\n",
      "4  1/7/2017         32.0        NaN   Rain\n"
     ]
    }
   ],
   "source": [
    "# two - directory up\n",
    "\n",
    "print(pd.read_csv(\"../../weather_data.csv\").head())"
   ]
  },
  {
   "cell_type": "code",
   "execution_count": null,
   "metadata": {},
   "outputs": [],
   "source": []
  },
  {
   "cell_type": "code",
   "execution_count": null,
   "metadata": {},
   "outputs": [],
   "source": []
  }
 ],
 "metadata": {
  "kernelspec": {
   "display_name": "Python 3",
   "language": "python",
   "name": "python3"
  },
  "language_info": {
   "codemirror_mode": {
    "name": "ipython",
    "version": 3
   },
   "file_extension": ".py",
   "mimetype": "text/x-python",
   "name": "python",
   "nbconvert_exporter": "python",
   "pygments_lexer": "ipython3",
   "version": "3.11.2"
  },
  "orig_nbformat": 4
 },
 "nbformat": 4,
 "nbformat_minor": 2
}
