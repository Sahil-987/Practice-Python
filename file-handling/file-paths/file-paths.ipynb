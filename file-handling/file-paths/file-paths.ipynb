{
 "cells": [
  {
   "cell_type": "code",
   "execution_count": 1,
   "metadata": {},
   "outputs": [
    {
     "name": "stdout",
     "output_type": "stream",
     "text": [
      ".\n"
     ]
    }
   ],
   "source": [
    "import os\n",
    "print(os.curdir)"
   ]
  },
  {
   "cell_type": "code",
   "execution_count": 2,
   "metadata": {},
   "outputs": [
    {
     "name": "stdout",
     "output_type": "stream",
     "text": [
      "Jobs - Interview\n",
      "Personal Projects\n",
      "Practice - NPMS\n",
      "Practice - Python\n",
      "Practice- Computer Vision\n",
      "Practice-SQL\n",
      "Time Series Analysis\n",
      "venv\n"
     ]
    }
   ],
   "source": [
    "import os\n",
    "for i in os.listdir(\"C:/Users/being/Dt Sci-Work/\"):\n",
    "    print(i)"
   ]
  },
  {
   "cell_type": "code",
   "execution_count": 4,
   "metadata": {},
   "outputs": [
    {
     "name": "stdout",
     "output_type": "stream",
     "text": [
      "file-paths.ipynb\n"
     ]
    }
   ],
   "source": [
    "import os\n",
    "for i in os.listdir(\"../file-paths/\"):\n",
    "    print(i)"
   ]
  },
  {
   "cell_type": "code",
   "execution_count": 6,
   "metadata": {},
   "outputs": [
    {
     "name": "stdout",
     "output_type": "stream",
     "text": [
      "file-paths\n",
      "zipfile\n"
     ]
    }
   ],
   "source": [
    "\"\"\"\n",
    "To move two directories levels up from the current directory in Python, you can use ../..\n",
    "Here's an example:\n",
    "\"\"\"\n",
    "\n",
    "\n",
    "import os\n",
    "for i in os.listdir(\"../../file-handling/\"):\n",
    "    print(i)"
   ]
  },
  {
   "cell_type": "code",
   "execution_count": 7,
   "metadata": {},
   "outputs": [
    {
     "name": "stdout",
     "output_type": "stream",
     "text": [
      ".git\n",
      ".gitignore\n",
      ".ipynb_checkpoints\n",
      "anagram.ipynb\n",
      "decorators\n",
      "DSA-Python\n",
      "fibonacci\n",
      "file-handling\n",
      "find_nums_list.py\n",
      "for-while-else-loop.ipynb\n",
      "generatiors.ipynb\n",
      "list_comprehension.ipynb\n",
      "move_zeros.ipynb\n",
      "OOPs\n",
      "pattern\n",
      "prime_numbers.ipynb\n",
      "README.md\n",
      "rough.ipynb\n"
     ]
    }
   ],
   "source": [
    "\"\"\"\n",
    "To move three directories levels up from the current directory in Python, you can use ../../../\n",
    "Here's an example:\n",
    "\n",
    "\n",
    "\"\"\"\n",
    "\n",
    "\n",
    "for i in os.listdir(\"../../../Practice - Python/\"):\n",
    "    print(i)"
   ]
  },
  {
   "cell_type": "code",
   "execution_count": null,
   "metadata": {},
   "outputs": [],
   "source": []
  }
 ],
 "metadata": {
  "kernelspec": {
   "display_name": "Python 3",
   "language": "python",
   "name": "python3"
  },
  "language_info": {
   "codemirror_mode": {
    "name": "ipython",
    "version": 3
   },
   "file_extension": ".py",
   "mimetype": "text/x-python",
   "name": "python",
   "nbconvert_exporter": "python",
   "pygments_lexer": "ipython3",
   "version": "3.11.2"
  },
  "orig_nbformat": 4
 },
 "nbformat": 4,
 "nbformat_minor": 2
}
